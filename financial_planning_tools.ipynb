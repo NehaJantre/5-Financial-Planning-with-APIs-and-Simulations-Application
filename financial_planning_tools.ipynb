{
 "cells": [
  {
   "cell_type": "markdown",
   "metadata": {},
   "source": [
    "# Financial Planning with APIs and Simulations\n",
    "\n",
    "In this Challenge, you’ll create two financial analysis tools by using a single Jupyter notebook:\n",
    "\n",
    "Part 1: A financial planner for emergencies. The members will be able to use this tool to visualize their current savings. The members can then determine if they have enough reserves for an emergency fund.\n",
    "\n",
    "Part 2: A financial planner for retirement. This tool will forecast the performance of their retirement portfolio in 30 years. To do this, the tool will make an Alpaca API call via the Alpaca SDK to get historical price data for use in Monte Carlo simulations.\n",
    "\n",
    "You’ll use the information from the Monte Carlo simulation to answer questions about the portfolio in your Jupyter notebook.\n",
    "\n"
   ]
  },
  {
   "cell_type": "code",
   "execution_count": 1,
   "metadata": {},
   "outputs": [],
   "source": [
    "# Import the required libraries and dependencies\n",
    "import os\n",
    "import requests\n",
    "import json\n",
    "import pandas as pd\n",
    "from dotenv import load_dotenv\n",
    "import alpaca_trade_api as tradeapi\n",
    "from MCForecastTools import MCSimulation\n",
    "import datetime as datetime\n",
    "%matplotlib inline"
   ]
  },
  {
   "cell_type": "code",
   "execution_count": 2,
   "metadata": {},
   "outputs": [
    {
     "data": {
      "text/plain": [
       "True"
      ]
     },
     "execution_count": 2,
     "metadata": {},
     "output_type": "execute_result"
    }
   ],
   "source": [
    "# Load the environment variables from the .env file\n",
    "#by calling the load_dotenv function\n",
    "load_dotenv()"
   ]
  },
  {
   "cell_type": "markdown",
   "metadata": {},
   "source": [
    "## Part 1: Create a Financial Planner for Emergencies"
   ]
  },
  {
   "cell_type": "markdown",
   "metadata": {},
   "source": [
    "### Evaluate the Cryptocurrency Wallet by Using the Requests Library\n",
    "\n",
    "In this section, you’ll determine the current value of a member’s cryptocurrency wallet. You’ll collect the current prices for the Bitcoin and Ethereum cryptocurrencies by using the Python Requests library. For the prototype, you’ll assume that the member holds the 1.2 Bitcoins (BTC) and 5.3 Ethereum coins (ETH). To do all this, complete the following steps:\n",
    "\n",
    "1. Create a variable named `monthly_income`, and set its value to `12000`.\n",
    "\n",
    "2. Use the Requests library to get the current price (in US dollars) of Bitcoin (BTC) and Ethereum (ETH) by using the API endpoints that the starter code supplies.\n",
    "\n",
    "3. Navigate the JSON response object to access the current price of each coin, and store each in a variable.\n",
    "\n",
    "    > **Hint** Note the specific identifier for each cryptocurrency in the API JSON response. The Bitcoin identifier is `1`, and the Ethereum identifier is `1027`.\n",
    "\n",
    "4. Calculate the value, in US dollars, of the current amount of each cryptocurrency and of the entire cryptocurrency wallet.\n",
    "\n"
   ]
  },
  {
   "cell_type": "code",
   "execution_count": 3,
   "metadata": {},
   "outputs": [],
   "source": [
    "# The current number of coins for each cryptocurrency asset held in the portfolio.\n",
    "btc_coins = 1.2\n",
    "eth_coins = 5.3"
   ]
  },
  {
   "cell_type": "markdown",
   "metadata": {},
   "source": [
    "#### Step 1: Create a variable named `monthly_income`, and set its value to `12000`."
   ]
  },
  {
   "cell_type": "code",
   "execution_count": 4,
   "metadata": {},
   "outputs": [],
   "source": [
    "# The monthly amount for the member's household income\n",
    "monthly_income = 12000\n"
   ]
  },
  {
   "cell_type": "markdown",
   "metadata": {},
   "source": [
    "#### Review the endpoint URLs for the API calls to Free Crypto API in order to get the current pricing information for both BTC and ETH."
   ]
  },
  {
   "cell_type": "code",
   "execution_count": 5,
   "metadata": {},
   "outputs": [],
   "source": [
    "# The Free Crypto API Call endpoint URLs for the held cryptocurrency assets\n",
    "btc_url = \"https://api.alternative.me/v2/ticker/Bitcoin/?convert=USD\"\n",
    "eth_url = \"https://api.alternative.me/v2/ticker/Ethereum/?convert=USD\""
   ]
  },
  {
   "cell_type": "markdown",
   "metadata": {},
   "source": [
    "#### Step 2. Use the Requests library to get the current price (in US dollars) of Bitcoin (BTC) and Ethereum (ETH) by using the API endpoints that the starter code supplied."
   ]
  },
  {
   "cell_type": "code",
   "execution_count": 6,
   "metadata": {},
   "outputs": [
    {
     "name": "stdout",
     "output_type": "stream",
     "text": [
      "{\n",
      "   \"data\": {\n",
      "      \"1\": {\n",
      "         \"circulating_supply\": 18747118,\n",
      "         \"id\": 1,\n",
      "         \"last_updated\": 1625342690,\n",
      "         \"max_supply\": 21000000,\n",
      "         \"name\": \"Bitcoin\",\n",
      "         \"quotes\": {\n",
      "            \"USD\": {\n",
      "               \"market_cap\": 653060096490,\n",
      "               \"percent_change_1h\": 0.322186920678642,\n",
      "               \"percent_change_24h\": 4.38066810735233,\n",
      "               \"percent_change_7d\": 8.99116800093351,\n",
      "               \"percentage_change_1h\": 0.322186920678642,\n",
      "               \"percentage_change_24h\": 4.38066810735233,\n",
      "               \"percentage_change_7d\": 8.99116800093351,\n",
      "               \"price\": 34815.0,\n",
      "               \"volume_24h\": 22735774661\n",
      "            }\n",
      "         },\n",
      "         \"rank\": 1,\n",
      "         \"symbol\": \"BTC\",\n",
      "         \"total_supply\": 18747118,\n",
      "         \"website_slug\": \"bitcoin\"\n",
      "      }\n",
      "   },\n",
      "   \"metadata\": {\n",
      "      \"error\": null,\n",
      "      \"num_cryptocurrencies\": 1279,\n",
      "      \"timestamp\": 1625342690\n",
      "   }\n",
      "}\n"
     ]
    }
   ],
   "source": [
    "# Using the Python requests library, make an API call to access the current price of BTC\n",
    "btc_response = requests.get(btc_url).json()\n",
    "\n",
    "# Use the json.dumps function to review the response data from the API call\n",
    "# Use the indent and sort_keys parameters to make the response object readable\n",
    "print(json.dumps(btc_response, indent= 3, sort_keys= True))\n"
   ]
  },
  {
   "cell_type": "code",
   "execution_count": 7,
   "metadata": {},
   "outputs": [
    {
     "name": "stdout",
     "output_type": "stream",
     "text": [
      "{\n",
      "   \"data\": {\n",
      "      \"1027\": {\n",
      "         \"circulating_supply\": 116546007,\n",
      "         \"id\": 1027,\n",
      "         \"last_updated\": 1625342673,\n",
      "         \"max_supply\": 0,\n",
      "         \"name\": \"Ethereum\",\n",
      "         \"quotes\": {\n",
      "            \"USD\": {\n",
      "               \"market_cap\": 260294852318,\n",
      "               \"percent_change_1h\": 0.370994405359322,\n",
      "               \"percent_change_24h\": 6.14536506139478,\n",
      "               \"percent_change_7d\": 21.7596296212755,\n",
      "               \"percentage_change_1h\": 0.370994405359322,\n",
      "               \"percentage_change_24h\": 6.14536506139478,\n",
      "               \"percentage_change_7d\": 21.7596296212755,\n",
      "               \"price\": 2232.42,\n",
      "               \"volume_24h\": 20091012692\n",
      "            }\n",
      "         },\n",
      "         \"rank\": 2,\n",
      "         \"symbol\": \"ETH\",\n",
      "         \"total_supply\": 116546007,\n",
      "         \"website_slug\": \"ethereum\"\n",
      "      }\n",
      "   },\n",
      "   \"metadata\": {\n",
      "      \"error\": null,\n",
      "      \"num_cryptocurrencies\": 1279,\n",
      "      \"timestamp\": 1625342673\n",
      "   }\n",
      "}\n"
     ]
    }
   ],
   "source": [
    "# Using the Python requests library, make an API call to access the current price ETH\n",
    "eth_response = requests.get(eth_url).json()\n",
    "\n",
    "# Use the json.dumps function to review the response data from the API call\n",
    "# Use the indent and sort_keys parameters to make the response object readable\n",
    "print(json.dumps(eth_response, indent= 3, sort_keys=True))\n"
   ]
  },
  {
   "cell_type": "markdown",
   "metadata": {},
   "source": [
    "#### Step 3: Navigate the JSON response object to access the current price of each coin, and store each in a variable."
   ]
  },
  {
   "cell_type": "code",
   "execution_count": 8,
   "metadata": {},
   "outputs": [
    {
     "name": "stdout",
     "output_type": "stream",
     "text": [
      "The price of BTC is $34815.00\n"
     ]
    }
   ],
   "source": [
    "# Navigate the BTC response object to access the current price of BTC\n",
    "btc_price =btc_response[\"data\"][\"1\"][\"quotes\"][\"USD\"][\"price\"]\n",
    "\n",
    "# Print the current price of BTC\n",
    "print(f\"The price of BTC is ${btc_price:.2f}\")\n"
   ]
  },
  {
   "cell_type": "code",
   "execution_count": 9,
   "metadata": {},
   "outputs": [
    {
     "name": "stdout",
     "output_type": "stream",
     "text": [
      "The price of ETH is $2232.42\n"
     ]
    }
   ],
   "source": [
    "# Navigate the BTC response object to access the current price of ETH\n",
    "eth_price = eth_response[\"data\"][\"1027\"][\"quotes\"][\"USD\"][\"price\"]\n",
    "\n",
    "# Print the current price of ETH\n",
    "print(f\"The price of ETH is ${eth_price:.2f}\")\n"
   ]
  },
  {
   "cell_type": "markdown",
   "metadata": {},
   "source": [
    "### Step 4: Calculate the value, in US dollars, of the current amount of each cryptocurrency and of the entire cryptocurrency wallet."
   ]
  },
  {
   "cell_type": "code",
   "execution_count": 10,
   "metadata": {},
   "outputs": [
    {
     "name": "stdout",
     "output_type": "stream",
     "text": [
      "The current value of your holding in BTC is $41778.00\n"
     ]
    }
   ],
   "source": [
    "# Compute the current value of the BTC holding \n",
    "btc_value = btc_coins * btc_price\n",
    "\n",
    "# Print current value of your holding in BTC\n",
    "print(f\"The current value of your holding in BTC is ${btc_value:.2f}\")\n"
   ]
  },
  {
   "cell_type": "code",
   "execution_count": 11,
   "metadata": {},
   "outputs": [
    {
     "name": "stdout",
     "output_type": "stream",
     "text": [
      "The current value of your holding in ETH is $11831.83\n"
     ]
    }
   ],
   "source": [
    "# Compute the current value of the ETH holding \n",
    "eth_value =eth_coins * eth_price\n",
    "\n",
    "# Print current value of your holding in ETH\n",
    "print(f\"The current value of your holding in ETH is ${eth_value:.2f}\")"
   ]
  },
  {
   "cell_type": "code",
   "execution_count": 12,
   "metadata": {},
   "outputs": [
    {
     "name": "stdout",
     "output_type": "stream",
     "text": [
      "The current cryptocurrency wallet balance is $53609.83\n"
     ]
    }
   ],
   "source": [
    "# Compute the total value of the cryptocurrency wallet\n",
    "# Add the value of the BTC holding to the value of the ETH holding\n",
    "total_crypto_wallet = btc_value + eth_value\n",
    "\n",
    "# Print current cryptocurrency wallet balance\n",
    "print(f\"The current cryptocurrency wallet balance is ${total_crypto_wallet:.2f}\")"
   ]
  },
  {
   "cell_type": "markdown",
   "metadata": {},
   "source": [
    "### Evaluate the Stock and Bond Holdings by Using the Alpaca SDK\n",
    "\n",
    "In this section, you’ll determine the current value of a member’s stock and bond holdings. You’ll make an API call to Alpaca via the Alpaca SDK to get the current closing prices of the SPDR S&P 500 ETF Trust (ticker: SPY) and of the iShares Core US Aggregate Bond ETF (ticker: AGG). For the prototype, assume that the member holds 110 shares of SPY, which represents the stock portion of their portfolio, and 200 shares of AGG, which represents the bond portion. To do all this, complete the following steps:\n",
    "\n",
    "1. In the `Starter_Code` folder, create an environment file (`.env`) to store the values of your Alpaca API key and Alpaca secret key.\n",
    "\n",
    "2. Set the variables for the Alpaca API and secret keys. Using the Alpaca SDK, create the Alpaca `tradeapi.REST` object. In this object, include the parameters for the Alpaca API key, the secret key, and the version number.\n",
    "\n",
    "3. Set the following parameters for the Alpaca API call:\n",
    "\n",
    "    - `tickers`: Use the tickers for the member’s stock and bond holdings.\n",
    "\n",
    "    - `timeframe`: Use a time frame of one day.\n",
    "\n",
    "    - `start_date` and `end_date`: Use the same date for these parameters, and format them with the date of the previous weekday (or `2020-08-07`). This is because you want the one closing price for the most-recent trading day.\n",
    "\n",
    "4. Get the current closing prices for `SPY` and `AGG` by using the Alpaca `get_barset` function. Format the response as a Pandas DataFrame by including the `df` property at the end of the `get_barset` function.\n",
    "\n",
    "5. Navigating the Alpaca response DataFrame, select the `SPY` and `AGG` closing prices, and store them as variables.\n",
    "\n",
    "6. Calculate the value, in US dollars, of the current amount of shares in each of the stock and bond portions of the portfolio, and print the results.\n"
   ]
  },
  {
   "cell_type": "markdown",
   "metadata": {},
   "source": [
    "#### Review the total number of shares held in both (SPY) and (AGG)."
   ]
  },
  {
   "cell_type": "code",
   "execution_count": 13,
   "metadata": {},
   "outputs": [],
   "source": [
    "# Current amount of shares held in both the stock (SPY) and bond (AGG) portion of the portfolio.\n",
    "spy_shares = 110\n",
    "agg_shares = 200\n"
   ]
  },
  {
   "cell_type": "markdown",
   "metadata": {},
   "source": [
    "#### Step 1: In the `Starter_Code` folder, create an environment file (`.env`) to store the values of your Alpaca API key and Alpaca secret key."
   ]
  },
  {
   "cell_type": "markdown",
   "metadata": {},
   "source": [
    "#### Step 2: Set the variables for the Alpaca API and secret keys. Using the Alpaca SDK, create the Alpaca `tradeapi.REST` object. In this object, include the parameters for the Alpaca API key, the secret key, and the version number."
   ]
  },
  {
   "cell_type": "code",
   "execution_count": 14,
   "metadata": {},
   "outputs": [
    {
     "data": {
      "text/plain": [
       "str"
      ]
     },
     "metadata": {},
     "output_type": "display_data"
    },
    {
     "data": {
      "text/plain": [
       "str"
      ]
     },
     "metadata": {},
     "output_type": "display_data"
    }
   ],
   "source": [
    "# Set the variables for the Alpaca API and secret keys\n",
    "alpaca_api_key = os.getenv(\"ALPACA_API_KEY\")\n",
    "alpaca_secret_key = os.getenv(\"ALPACA_SECRET_KEY\")\n",
    "\n",
    "display(type(alpaca_api_key))\n",
    "display(type(alpaca_secret_key))\n",
    "\n",
    "# Create the Alpaca tradeapi.REST object\n",
    "alpaca = tradeapi.REST(\n",
    "alpaca_api_key,\n",
    "alpaca_secret_key,\n",
    "api_version= \"V2\")\n"
   ]
  },
  {
   "cell_type": "markdown",
   "metadata": {},
   "source": [
    "#### Step 3: Set the following parameters for the Alpaca API call:\n",
    "\n",
    "- `tickers`: Use the tickers for the member’s stock and bond holdings.\n",
    "\n",
    "- `timeframe`: Use a time frame of one day.\n",
    "\n",
    "- `start_date` and `end_date`: Use the same date for these parameters, and format them with the date of the previous weekday (or `2020-08-07`). This is because you want the one closing price for the most-recent trading day.\n"
   ]
  },
  {
   "cell_type": "code",
   "execution_count": 15,
   "metadata": {},
   "outputs": [],
   "source": [
    "# Set the tickers for both the bond and stock portion of the portfolio\n",
    "tickers = [\"SPY\",\"AGG\"]\n",
    "\n",
    "# Set timeframe to 1D \n",
    "timeframe = \"1D\"\n",
    "\n",
    "# Format current date as ISO format\n",
    "# Set both the start and end date at the date of your prior weekday \n",
    "# This will give you the closing price of the previous trading day\n",
    "# Alternatively you can use a start and end date of 2020-08-07\n",
    "start_date = pd.Timestamp(\"2020-06-25\", tz=\"America/New_York\").isoformat()\n",
    "end_date = pd.Timestamp(\"2020-06-25\", tz=\"America/New_York\").isoformat()"
   ]
  },
  {
   "cell_type": "markdown",
   "metadata": {},
   "source": [
    "#### Step 4: Get the current closing prices for `SPY` and `AGG` by using the Alpaca `get_barset` function. Format the response as a Pandas DataFrame by including the `df` property at the end of the `get_barset` function."
   ]
  },
  {
   "cell_type": "code",
   "execution_count": 16,
   "metadata": {},
   "outputs": [
    {
     "data": {
      "text/html": [
       "<div>\n",
       "<style scoped>\n",
       "    .dataframe tbody tr th:only-of-type {\n",
       "        vertical-align: middle;\n",
       "    }\n",
       "\n",
       "    .dataframe tbody tr th {\n",
       "        vertical-align: top;\n",
       "    }\n",
       "\n",
       "    .dataframe thead tr th {\n",
       "        text-align: left;\n",
       "    }\n",
       "\n",
       "    .dataframe thead tr:last-of-type th {\n",
       "        text-align: right;\n",
       "    }\n",
       "</style>\n",
       "<table border=\"1\" class=\"dataframe\">\n",
       "  <thead>\n",
       "    <tr>\n",
       "      <th></th>\n",
       "      <th colspan=\"5\" halign=\"left\">AGG</th>\n",
       "      <th colspan=\"5\" halign=\"left\">SPY</th>\n",
       "    </tr>\n",
       "    <tr>\n",
       "      <th></th>\n",
       "      <th>open</th>\n",
       "      <th>high</th>\n",
       "      <th>low</th>\n",
       "      <th>close</th>\n",
       "      <th>volume</th>\n",
       "      <th>open</th>\n",
       "      <th>high</th>\n",
       "      <th>low</th>\n",
       "      <th>close</th>\n",
       "      <th>volume</th>\n",
       "    </tr>\n",
       "    <tr>\n",
       "      <th>time</th>\n",
       "      <th></th>\n",
       "      <th></th>\n",
       "      <th></th>\n",
       "      <th></th>\n",
       "      <th></th>\n",
       "      <th></th>\n",
       "      <th></th>\n",
       "      <th></th>\n",
       "      <th></th>\n",
       "      <th></th>\n",
       "    </tr>\n",
       "  </thead>\n",
       "  <tbody>\n",
       "    <tr>\n",
       "      <th>2020-06-25 00:00:00-04:00</th>\n",
       "      <td>117.94</td>\n",
       "      <td>117.95</td>\n",
       "      <td>117.8</td>\n",
       "      <td>117.85</td>\n",
       "      <td>4338474</td>\n",
       "      <td>303.47</td>\n",
       "      <td>307.64</td>\n",
       "      <td>301.28</td>\n",
       "      <td>307.31</td>\n",
       "      <td>74516605</td>\n",
       "    </tr>\n",
       "  </tbody>\n",
       "</table>\n",
       "</div>"
      ],
      "text/plain": [
       "                              AGG                                     SPY  \\\n",
       "                             open    high    low   close   volume    open   \n",
       "time                                                                        \n",
       "2020-06-25 00:00:00-04:00  117.94  117.95  117.8  117.85  4338474  303.47   \n",
       "\n",
       "                                                             \n",
       "                             high     low   close    volume  \n",
       "time                                                         \n",
       "2020-06-25 00:00:00-04:00  307.64  301.28  307.31  74516605  "
      ]
     },
     "execution_count": 16,
     "metadata": {},
     "output_type": "execute_result"
    }
   ],
   "source": [
    "# Use the Alpaca get_barset function to get current closing prices the portfolio\n",
    "# Be sure to set the `df` property after the function to format the response object as a DataFrame\n",
    "prices_df = alpaca.get_barset(\n",
    "    tickers,\n",
    "    timeframe,\n",
    "    start= start_date,\n",
    "    end=end_date\n",
    ").df\n",
    "\n",
    "# Review the first 5 rows of the Alpaca DataFrame\n",
    "prices_df.head()"
   ]
  },
  {
   "cell_type": "markdown",
   "metadata": {},
   "source": [
    "#### Step 5: Navigating the Alpaca response DataFrame, select the `SPY` and `AGG` closing prices, and store them as variables."
   ]
  },
  {
   "cell_type": "code",
   "execution_count": 17,
   "metadata": {},
   "outputs": [
    {
     "name": "stdout",
     "output_type": "stream",
     "text": [
      "<class 'float'>\n",
      "AGG closing price: $117.85\n"
     ]
    }
   ],
   "source": [
    "# Access the closing price for AGG from the Alpaca DataFrame\n",
    "# Converting the value to a floating point number\n",
    "agg_close_price = float(prices_df[\"AGG\"][\"close\"])\n",
    "\n",
    "# Print the AGG closing price\n",
    "print(type(agg_close_price))\n",
    "print(f\"AGG closing price: ${agg_close_price:.2f}\")\n"
   ]
  },
  {
   "cell_type": "code",
   "execution_count": 18,
   "metadata": {},
   "outputs": [
    {
     "name": "stdout",
     "output_type": "stream",
     "text": [
      "<class 'float'>\n",
      "SPY closing price: $307.31\n"
     ]
    }
   ],
   "source": [
    "# Access the closing price for SPY from the Alpaca DataFrame\n",
    "# Converting the value to a floating point number\n",
    "spy_close_price = float(prices_df[\"SPY\"][\"close\"])\n",
    "\n",
    "# Print the SPY closing price\n",
    "print(type(spy_close_price))\n",
    "print(f\"SPY closing price: ${spy_close_price:.2f}\")\n"
   ]
  },
  {
   "cell_type": "markdown",
   "metadata": {},
   "source": [
    "#### Step 6: Calculate the value, in US dollars, of the current amount of shares in each of the stock and bond portions of the portfolio, and print the results."
   ]
  },
  {
   "cell_type": "code",
   "execution_count": 19,
   "metadata": {},
   "outputs": [
    {
     "name": "stdout",
     "output_type": "stream",
     "text": [
      "Current value of the bond portfolio: $23570.00\n"
     ]
    }
   ],
   "source": [
    "# Calculate the current value of the bond portion of the portfolio\n",
    "agg_value =agg_close_price * agg_shares\n",
    "\n",
    "# Print the current value of the bond portfolio\n",
    "print(f\"Current value of the bond portfolio: ${agg_value:.2f}\")\n"
   ]
  },
  {
   "cell_type": "code",
   "execution_count": 20,
   "metadata": {},
   "outputs": [
    {
     "name": "stdout",
     "output_type": "stream",
     "text": [
      "Current value of the stock portfolio: $33804.10\n"
     ]
    }
   ],
   "source": [
    "# Calculate the current value of the stock portion of the portfolio\n",
    "spy_value = spy_close_price * spy_shares\n",
    "\n",
    "# Print the current value of the stock portfolio\n",
    "print(f\"Current value of the stock portfolio: ${spy_value:.2f}\")\n"
   ]
  },
  {
   "cell_type": "code",
   "execution_count": 21,
   "metadata": {},
   "outputs": [
    {
     "name": "stdout",
     "output_type": "stream",
     "text": [
      "The current balance of the stock and bond portion of the portfolio is $57374.10\n"
     ]
    }
   ],
   "source": [
    "# Calculate the total value of the stock and bond portion of the portfolio\n",
    "total_stocks_bonds = spy_value + agg_value\n",
    "\n",
    "# Print the current balance of the stock and bond portion of the portfolio\n",
    "print(f\"The current balance of the stock and bond portion of the portfolio is ${total_stocks_bonds:.2f}\")\n"
   ]
  },
  {
   "cell_type": "code",
   "execution_count": 22,
   "metadata": {},
   "outputs": [
    {
     "name": "stdout",
     "output_type": "stream",
     "text": [
      "Total value of entire portfolio(Stocks, Bonds and Cryptos) is $110983.93\n"
     ]
    }
   ],
   "source": [
    "# Calculate the total value of the member's entire savings portfolio\n",
    "# Add the value of the cryptocurrency walled to the value of the total stocks and bonds\n",
    "total_portfolio =total_crypto_wallet + total_stocks_bonds\n",
    "\n",
    "# Print current cryptocurrency wallet balance\n",
    "print(f\"Total value of entire portfolio(Stocks, Bonds and Cryptos) is ${total_portfolio:.2f}\")\n"
   ]
  },
  {
   "cell_type": "markdown",
   "metadata": {},
   "source": [
    "### Evaluate the Emergency Fund\n",
    "\n",
    "In this section, you’ll use the valuations for the cryptocurrency wallet and for the stock and bond portions of the portfolio to determine if the credit union member has enough savings to build an emergency fund into their financial plan. To do this, complete the following steps:\n",
    "\n",
    "1. Create a Python list named `savings_data` that has two elements. The first element contains the total value of the cryptocurrency wallet. The second element contains the total value of the stock and bond portions of the portfolio.\n",
    "\n",
    "2. Use the `savings_data` list to create a Pandas DataFrame named `savings_df`, and then display this DataFrame. The function to create the DataFrame should take the following three parameters:\n",
    "\n",
    "    - `savings_data`: Use the list that you just created.\n",
    "\n",
    "    - `columns`: Set this parameter equal to a Python list with a single value called `amount`.\n",
    "\n",
    "    - `index`: Set this parameter equal to a Python list with the values of `crypto` and `stock/bond`.\n",
    "\n",
    "3. Use the `savings_df` DataFrame to plot a pie chart that visualizes the composition of the member’s portfolio. The y-axis of the pie chart uses `amount`. Be sure to add a title.\n",
    "\n",
    "4. Using Python, determine if the current portfolio has enough to create an emergency fund as part of the member’s financial plan. Ideally, an emergency fund should equal to three times the member’s monthly income. To do this, implement the following steps:\n",
    "\n",
    "    1. Create a variable named `emergency_fund_value`, and set it equal to three times the value of the member’s `monthly_income` of $12000. (You set this earlier in Part 1).\n",
    "\n",
    "    2. Create a series of three if statements to determine if the member’s total portfolio is large enough to fund the emergency portfolio:\n",
    "\n",
    "        1. If the total portfolio value is greater than the emergency fund value, display a message congratulating the member for having enough money in this fund.\n",
    "\n",
    "        2. Else if the total portfolio value is equal to the emergency fund value, display a message congratulating the member on reaching this important financial goal.\n",
    "\n",
    "        3. Else the total portfolio is less than the emergency fund value, so display a message showing how many dollars away the member is from reaching the goal. (Subtract the total portfolio value from the emergency fund value.)\n"
   ]
  },
  {
   "cell_type": "markdown",
   "metadata": {},
   "source": [
    "#### Step 1: Create a Python list named `savings_data` that has two elements. The first element contains the total value of the cryptocurrency wallet. The second element contains the total value of the stock and bond portions of the portfolio."
   ]
  },
  {
   "cell_type": "code",
   "execution_count": 23,
   "metadata": {},
   "outputs": [
    {
     "data": {
      "text/plain": [
       "['Crypto total', 'Stocks/Bonds total']"
      ]
     },
     "execution_count": 23,
     "metadata": {},
     "output_type": "execute_result"
    }
   ],
   "source": [
    "# Consolidate financial assets data into a Python list\n",
    "savings_data = [\"Crypto total\",\"Stocks/Bonds total\"]\n",
    "# Review the Python list savings_data\n",
    "savings_data\n",
    "    "
   ]
  },
  {
   "cell_type": "markdown",
   "metadata": {},
   "source": [
    "#### Step 2: Use the `savings_data` list to create a Pandas DataFrame named `savings_df`, and then display this DataFrame. The function to create the DataFrame should take the following three parameters:\n",
    "\n",
    "- `savings_data`: Use the list that you just created.\n",
    "\n",
    "- `columns`: Set this parameter equal to a Python list with a single value called `amount`.\n",
    "\n",
    "- `index`: Set this parameter equal to a Python list with the values of `crypto` and `stock/bond`.\n"
   ]
  },
  {
   "cell_type": "code",
   "execution_count": 24,
   "metadata": {},
   "outputs": [
    {
     "data": {
      "text/html": [
       "<div>\n",
       "<style scoped>\n",
       "    .dataframe tbody tr th:only-of-type {\n",
       "        vertical-align: middle;\n",
       "    }\n",
       "\n",
       "    .dataframe tbody tr th {\n",
       "        vertical-align: top;\n",
       "    }\n",
       "\n",
       "    .dataframe thead th {\n",
       "        text-align: right;\n",
       "    }\n",
       "</style>\n",
       "<table border=\"1\" class=\"dataframe\">\n",
       "  <thead>\n",
       "    <tr style=\"text-align: right;\">\n",
       "      <th></th>\n",
       "      <th>Amount</th>\n",
       "    </tr>\n",
       "  </thead>\n",
       "  <tbody>\n",
       "    <tr>\n",
       "      <th>Crypto total</th>\n",
       "      <td>53609.826</td>\n",
       "    </tr>\n",
       "    <tr>\n",
       "      <th>Stocks/Bonds total</th>\n",
       "      <td>57374.100</td>\n",
       "    </tr>\n",
       "  </tbody>\n",
       "</table>\n",
       "</div>"
      ],
      "text/plain": [
       "                       Amount\n",
       "Crypto total        53609.826\n",
       "Stocks/Bonds total  57374.100"
      ]
     },
     "execution_count": 24,
     "metadata": {},
     "output_type": "execute_result"
    }
   ],
   "source": [
    "# Create a Pandas DataFrame called savings_df \n",
    "savings_df = pd.DataFrame(\n",
    "    {\"Amount\": [total_crypto_wallet, total_stocks_bonds]},\n",
    "    index= savings_data\n",
    ")\n",
    "\n",
    "# Display the savings_df DataFrame\n",
    "savings_df\n"
   ]
  },
  {
   "cell_type": "markdown",
   "metadata": {},
   "source": [
    "#### Step 3: Use the `savings_df` DataFrame to plot a pie chart that visualizes the composition of the member’s portfolio. The y-axis of the pie chart uses `amount`. Be sure to add a title."
   ]
  },
  {
   "cell_type": "code",
   "execution_count": 25,
   "metadata": {},
   "outputs": [
    {
     "data": {
      "text/plain": [
       "<AxesSubplot:title={'center':'Portfolio Composition - Crypto and Stocks/Bonds'}, ylabel='Amount'>"
      ]
     },
     "execution_count": 25,
     "metadata": {},
     "output_type": "execute_result"
    },
    {
     "data": {
      "image/png": "[encoded data removed]",
      "text/plain": [
       "<Figure size 432x288 with 1 Axes>"
      ]
     },
     "metadata": {},
     "output_type": "display_data"
    }
   ],
   "source": [
    "# Plot the total value of the member's portfolio (crypto and stock/bond) in a pie chart\n",
    "savings_df.plot.pie(\n",
    "    y=\"Amount\",\n",
    "    title= \"Portfolio Composition - Crypto and Stocks/Bonds\")\n"
   ]
  },
  {
   "cell_type": "markdown",
   "metadata": {},
   "source": [
    "#### Step 4: Using Python, determine if the current portfolio has enough to create an emergency fund as part of the member’s financial plan. Ideally, an emergency fund should equal to three times the member’s monthly income. To do this, implement the following steps:\n",
    "\n",
    "Step 1. Create a variable named `emergency_fund_value`, and set it equal to three times the value of the member’s `monthly_income` of 12000. (You set this earlier in Part 1).\n",
    "\n",
    "Step 2. Create a series of three if statements to determine if the member’s total portfolio is large enough to fund the emergency portfolio:\n",
    "\n",
    "* If the total portfolio value is greater than the emergency fund value, display a message congratulating the member for having enough money in this fund.\n",
    "\n",
    "* Else if the total portfolio value is equal to the emergency fund value, display a message congratulating the member on reaching this important financial goal.\n",
    "\n",
    "* Else the total portfolio is less than the emergency fund value, so display a message showing how many dollars away the member is from reaching the goal. (Subtract the total portfolio value from the emergency fund value.)\n"
   ]
  },
  {
   "cell_type": "markdown",
   "metadata": {},
   "source": [
    "##### Step 4-1: Create a variable named `emergency_fund_value`, and set it equal to three times the value of the member’s `monthly_income` of 12000. (You set this earlier in Part 1)."
   ]
  },
  {
   "cell_type": "code",
   "execution_count": 26,
   "metadata": {},
   "outputs": [
    {
     "data": {
      "text/plain": [
       "36000"
      ]
     },
     "execution_count": 26,
     "metadata": {},
     "output_type": "execute_result"
    }
   ],
   "source": [
    "# Create a variable named emergency_fund_value\n",
    "emergency_fund_value = monthly_income * 3\n",
    "emergency_fund_value"
   ]
  },
  {
   "cell_type": "markdown",
   "metadata": {},
   "source": [
    "##### Step 4-2: Create a series of three if statements to determine if the member’s total portfolio is large enough to fund the emergency portfolio:\n",
    "\n",
    "* If the total portfolio value is greater than the emergency fund value, display a message congratulating the member for having enough money in this fund.\n",
    "\n",
    "* Else if the total portfolio value is equal to the emergency fund value, display a message congratulating the member on reaching this important financial goal.\n",
    "\n",
    "* Else the total portfolio is less than the emergency fund value, so display a message showing how many dollars away the member is from reaching the goal. (Subtract the total portfolio value from the emergency fund value.)"
   ]
  },
  {
   "cell_type": "code",
   "execution_count": 28,
   "metadata": {},
   "outputs": [
    {
     "name": "stdout",
     "output_type": "stream",
     "text": [
      "Congratulations!!! You have enough money in this fund.\n"
     ]
    }
   ],
   "source": [
    "# Evaluate the possibility of creating an emergency fund with 3 conditions:\n",
    "if total_portfolio > emergency_fund_value:\n",
    "    print(\"Congratulations!!! You have enough money in this fund.\")\n",
    "elif total_portfolio == emergency_fund_value:\n",
    "    print(\"Congratulations!!! You have reached the important financial goal of having 3 month emergency fund reserve\")\n",
    "elif total_portfolio < emergency_fund_value:\n",
    "    print(f\"You will need more ${emergency_fund_value-total_portfolio} to reach your goal of having emergency fund\")"
   ]
  },
  {
   "cell_type": "markdown",
   "metadata": {},
   "source": [
    "## Part 2: Create a Financial Planner for Retirement"
   ]
  },
  {
   "cell_type": "markdown",
   "metadata": {},
   "source": [
    "### Create the Monte Carlo Simulation\n",
    "\n",
    "In this section, you’ll use the MCForecastTools library to create a Monte Carlo simulation for the member’s savings portfolio. To do this, complete the following steps:\n",
    "\n",
    "1. Make an API call via the Alpaca SDK to get 10 years of historical closing prices for a traditional 60/40 portfolio split: 60% stocks (SPY) and 40% bonds (AGG).\n",
    "\n",
    "2. Run a Monte Carlo simulation of 500 samples and 30 years for the 60/40 portfolio, and then plot the results.The following image shows the overlay line plot resulting from a simulation with these characteristics. However, because a random number generator is used to run each live Monte Carlo simulation, your image will differ slightly from this exact image:\n",
    "\n",
    "![A screenshot depicts the resulting plot.](Images/5-4-monte-carlo-line-plot.png)\n",
    "\n",
    "3. Plot the probability distribution of the Monte Carlo simulation. Plot the probability distribution of the Monte Carlo simulation. The following image shows the histogram plot resulting from a simulation with these characteristics. However, because a random number generator is used to run each live Monte Carlo simulation, your image will differ slightly from this exact image:\n",
    "\n",
    "![A screenshot depicts the histogram plot.](Images/5-4-monte-carlo-histogram.png)\n",
    "\n",
    "4. Generate the summary statistics for the Monte Carlo simulation.\n",
    "\n"
   ]
  },
  {
   "cell_type": "markdown",
   "metadata": {},
   "source": [
    "#### Step 1: Make an API call via the Alpaca SDK to get 10 years of historical closing prices for a traditional 60/40 portfolio split: 60% stocks (SPY) and 40% bonds (AGG)."
   ]
  },
  {
   "cell_type": "code",
   "execution_count": 29,
   "metadata": {},
   "outputs": [
    {
     "data": {
      "text/plain": [
       "('2020-06-25T00:00:00-04:00', '2021-06-28T00:00:00-04:00')"
      ]
     },
     "execution_count": 29,
     "metadata": {},
     "output_type": "execute_result"
    }
   ],
   "source": [
    "# Set start and end dates of 10 years back from your current date\n",
    "# Alternatively, you can use an end date of 2020-08-07 and work 10 years back from that date \n",
    "today = str(datetime.datetime.now()).split()[0]\n",
    "five_days_back = str(datetime.datetime.now() - datetime.timedelta(days=5)).split()[0]\n",
    "one_year_back = str(datetime.datetime.now() - datetime.timedelta(days=365)).split()[0]\n",
    "three_year_back = str(datetime.datetime.now() - datetime.timedelta(days=3*365)).split()[0]\n",
    "ten_year_back = str(datetime.datetime.now() - datetime.timedelta(days=10*365)).split()[0]\n",
    "\n",
    "start_date_ten_years_back = pd.Timestamp(ten_year_back, tz= \"America/New_York\").isoformat()\n",
    "end_date = pd.Timestamp(five_days_back, tz = \"America/New_York\").isoformat()\n",
    "start_date, end_date"
   ]
  },
  {
   "cell_type": "code",
   "execution_count": 30,
   "metadata": {},
   "outputs": [
    {
     "name": "stdout",
     "output_type": "stream",
     "text": [
      "2011-07-06T00:00:00-04:00\n",
      "                              AGG                                       \\\n",
      "                             open      high       low   close   volume   \n",
      "time                                                                     \n",
      "2021-02-04 00:00:00-05:00  116.75  116.8900  116.6900  116.86  5128808   \n",
      "2021-02-05 00:00:00-05:00  116.91  116.9600  116.7000  116.72  3230833   \n",
      "2021-02-08 00:00:00-05:00  116.75  116.9285  116.7200  116.84  3923885   \n",
      "2021-02-09 00:00:00-05:00  116.94  116.9700  116.8215  116.86  4050208   \n",
      "2021-02-10 00:00:00-05:00  116.97  117.0100  116.9200  117.00  3448438   \n",
      "\n",
      "                              SPY                                      \n",
      "                             open    high       low   close    volume  \n",
      "time                                                                   \n",
      "2021-02-04 00:00:00-05:00  382.96  386.24  381.9655  386.17  40030930  \n",
      "2021-02-05 00:00:00-05:00  388.20  388.47  386.1444  387.68  39312522  \n",
      "2021-02-08 00:00:00-05:00  389.27  390.54  388.3500  390.53  33986650  \n",
      "2021-02-09 00:00:00-05:00  389.61  390.89  389.1700  390.25  30861522  \n",
      "2021-02-10 00:00:00-05:00  392.12  392.28  387.5000  390.10  53797977  \n",
      "                              AGG                                         SPY  \\\n",
      "                             open     high       low   close   volume    open   \n",
      "time                                                                            \n",
      "2021-06-22 00:00:00-04:00  114.83  115.140  114.8300  115.11  5299846  420.85   \n",
      "2021-06-23 00:00:00-04:00  115.06  115.138  114.9900  115.05  5000374  423.19   \n",
      "2021-06-24 00:00:00-04:00  115.10  115.170  115.0450  115.07  6672880  424.89   \n",
      "2021-06-25 00:00:00-04:00  115.11  115.130  114.7516  114.89  3987588  425.90   \n",
      "2021-06-28 00:00:00-04:00  115.04  115.230  115.0400  115.16  5523690  427.17   \n",
      "\n",
      "                                                               \n",
      "                               high     low   close    volume  \n",
      "time                                                           \n",
      "2021-06-22 00:00:00-04:00  424.0000  420.08  423.06  50857233  \n",
      "2021-06-23 00:00:00-04:00  424.0500  422.51  422.60  41476351  \n",
      "2021-06-24 00:00:00-04:00  425.5500  424.62  425.09  39863529  \n",
      "2021-06-25 00:00:00-04:00  427.0943  425.55  426.57  50460394  \n",
      "2021-06-28 00:00:00-04:00  427.6500  425.89  427.48  43937373  \n"
     ]
    }
   ],
   "source": [
    "# Use the Alpaca get_barset function to make the API call to get the 10 years worth of pricing data\n",
    "# The tickers and timeframe parameters should have been set in Part 1 of this activity \n",
    "# The start and end dates should be updated with the information set above\n",
    "# Remember to add the df property to the end of the call so the response is returned as a DataFrame\n",
    "prices_df =  alpaca.get_barset(\n",
    "    tickers,\n",
    "    timeframe,\n",
    "    start=start_date_ten_years_back,\n",
    "    end=end_date).df\n",
    "\n",
    "# Display both the first and last five rows of the DataFrame\n",
    "print(start_date_ten_years_back)\n",
    "print(prices_df.head())\n",
    "print(prices_df.tail())\n"
   ]
  },
  {
   "cell_type": "markdown",
   "metadata": {},
   "source": [
    "#### Step 2: Run a Monte Carlo simulation of 500 samples and 30 years for the 60/40 portfolio, and then plot the results."
   ]
  },
  {
   "cell_type": "code",
   "execution_count": 31,
   "metadata": {},
   "outputs": [
    {
     "data": {
      "text/html": [
       "<div>\n",
       "<style scoped>\n",
       "    .dataframe tbody tr th:only-of-type {\n",
       "        vertical-align: middle;\n",
       "    }\n",
       "\n",
       "    .dataframe tbody tr th {\n",
       "        vertical-align: top;\n",
       "    }\n",
       "\n",
       "    .dataframe thead tr th {\n",
       "        text-align: left;\n",
       "    }\n",
       "\n",
       "    .dataframe thead tr:last-of-type th {\n",
       "        text-align: right;\n",
       "    }\n",
       "</style>\n",
       "<table border=\"1\" class=\"dataframe\">\n",
       "  <thead>\n",
       "    <tr>\n",
       "      <th></th>\n",
       "      <th colspan=\"6\" halign=\"left\">AGG</th>\n",
       "      <th colspan=\"6\" halign=\"left\">SPY</th>\n",
       "    </tr>\n",
       "    <tr>\n",
       "      <th></th>\n",
       "      <th>open</th>\n",
       "      <th>high</th>\n",
       "      <th>low</th>\n",
       "      <th>close</th>\n",
       "      <th>volume</th>\n",
       "      <th>daily_return</th>\n",
       "      <th>open</th>\n",
       "      <th>high</th>\n",
       "      <th>low</th>\n",
       "      <th>close</th>\n",
       "      <th>volume</th>\n",
       "      <th>daily_return</th>\n",
       "    </tr>\n",
       "    <tr>\n",
       "      <th>time</th>\n",
       "      <th></th>\n",
       "      <th></th>\n",
       "      <th></th>\n",
       "      <th></th>\n",
       "      <th></th>\n",
       "      <th></th>\n",
       "      <th></th>\n",
       "      <th></th>\n",
       "      <th></th>\n",
       "      <th></th>\n",
       "      <th></th>\n",
       "      <th></th>\n",
       "    </tr>\n",
       "  </thead>\n",
       "  <tbody>\n",
       "    <tr>\n",
       "      <th>2021-02-04 00:00:00-05:00</th>\n",
       "      <td>116.75</td>\n",
       "      <td>116.8900</td>\n",
       "      <td>116.6900</td>\n",
       "      <td>116.86</td>\n",
       "      <td>5128808</td>\n",
       "      <td>NaN</td>\n",
       "      <td>382.96</td>\n",
       "      <td>386.24</td>\n",
       "      <td>381.9655</td>\n",
       "      <td>386.17</td>\n",
       "      <td>40030930</td>\n",
       "      <td>NaN</td>\n",
       "    </tr>\n",
       "    <tr>\n",
       "      <th>2021-02-05 00:00:00-05:00</th>\n",
       "      <td>116.91</td>\n",
       "      <td>116.9600</td>\n",
       "      <td>116.7000</td>\n",
       "      <td>116.72</td>\n",
       "      <td>3230833</td>\n",
       "      <td>-0.001198</td>\n",
       "      <td>388.20</td>\n",
       "      <td>388.47</td>\n",
       "      <td>386.1444</td>\n",
       "      <td>387.68</td>\n",
       "      <td>39312522</td>\n",
       "      <td>0.003910</td>\n",
       "    </tr>\n",
       "    <tr>\n",
       "      <th>2021-02-08 00:00:00-05:00</th>\n",
       "      <td>116.75</td>\n",
       "      <td>116.9285</td>\n",
       "      <td>116.7200</td>\n",
       "      <td>116.84</td>\n",
       "      <td>3923885</td>\n",
       "      <td>0.001028</td>\n",
       "      <td>389.27</td>\n",
       "      <td>390.54</td>\n",
       "      <td>388.3500</td>\n",
       "      <td>390.53</td>\n",
       "      <td>33986650</td>\n",
       "      <td>0.007351</td>\n",
       "    </tr>\n",
       "    <tr>\n",
       "      <th>2021-02-09 00:00:00-05:00</th>\n",
       "      <td>116.94</td>\n",
       "      <td>116.9700</td>\n",
       "      <td>116.8215</td>\n",
       "      <td>116.86</td>\n",
       "      <td>4050208</td>\n",
       "      <td>0.000171</td>\n",
       "      <td>389.61</td>\n",
       "      <td>390.89</td>\n",
       "      <td>389.1700</td>\n",
       "      <td>390.25</td>\n",
       "      <td>30861522</td>\n",
       "      <td>-0.000717</td>\n",
       "    </tr>\n",
       "    <tr>\n",
       "      <th>2021-02-10 00:00:00-05:00</th>\n",
       "      <td>116.97</td>\n",
       "      <td>117.0100</td>\n",
       "      <td>116.9200</td>\n",
       "      <td>117.00</td>\n",
       "      <td>3448438</td>\n",
       "      <td>0.001198</td>\n",
       "      <td>392.12</td>\n",
       "      <td>392.28</td>\n",
       "      <td>387.5000</td>\n",
       "      <td>390.10</td>\n",
       "      <td>53797977</td>\n",
       "      <td>-0.000384</td>\n",
       "    </tr>\n",
       "  </tbody>\n",
       "</table>\n",
       "</div>"
      ],
      "text/plain": [
       "                              AGG                                       \\\n",
       "                             open      high       low   close   volume   \n",
       "time                                                                     \n",
       "2021-02-04 00:00:00-05:00  116.75  116.8900  116.6900  116.86  5128808   \n",
       "2021-02-05 00:00:00-05:00  116.91  116.9600  116.7000  116.72  3230833   \n",
       "2021-02-08 00:00:00-05:00  116.75  116.9285  116.7200  116.84  3923885   \n",
       "2021-02-09 00:00:00-05:00  116.94  116.9700  116.8215  116.86  4050208   \n",
       "2021-02-10 00:00:00-05:00  116.97  117.0100  116.9200  117.00  3448438   \n",
       "\n",
       "                                           SPY                            \\\n",
       "                          daily_return    open    high       low   close   \n",
       "time                                                                       \n",
       "2021-02-04 00:00:00-05:00          NaN  382.96  386.24  381.9655  386.17   \n",
       "2021-02-05 00:00:00-05:00    -0.001198  388.20  388.47  386.1444  387.68   \n",
       "2021-02-08 00:00:00-05:00     0.001028  389.27  390.54  388.3500  390.53   \n",
       "2021-02-09 00:00:00-05:00     0.000171  389.61  390.89  389.1700  390.25   \n",
       "2021-02-10 00:00:00-05:00     0.001198  392.12  392.28  387.5000  390.10   \n",
       "\n",
       "                                                  \n",
       "                             volume daily_return  \n",
       "time                                              \n",
       "2021-02-04 00:00:00-05:00  40030930          NaN  \n",
       "2021-02-05 00:00:00-05:00  39312522     0.003910  \n",
       "2021-02-08 00:00:00-05:00  33986650     0.007351  \n",
       "2021-02-09 00:00:00-05:00  30861522    -0.000717  \n",
       "2021-02-10 00:00:00-05:00  53797977    -0.000384  "
      ]
     },
     "execution_count": 31,
     "metadata": {},
     "output_type": "execute_result"
    }
   ],
   "source": [
    "# Configure the Monte Carlo simulation to forecast 30 years cumulative returns\n",
    "# The weights should be split 40% to AGG and 60% to SPY.\n",
    "# Run 500 samples.\n",
    "monte_carlo_simulation = MCSimulation(\n",
    "    portfolio_data= prices_df,\n",
    "    weights=[.60,.40],\n",
    "    num_simulation= 500,\n",
    "    num_trading_days= 252 * 30)\n",
    "\n",
    "# Review the simulation input data\n",
    "monte_carlo_simulation.portfolio_data.head()\n"
   ]
  },
  {
   "cell_type": "code",
   "execution_count": 32,
   "metadata": {},
   "outputs": [
    {
     "name": "stdout",
     "output_type": "stream",
     "text": [
      "Running Monte Carlo simulation number 0.\n",
      "Running Monte Carlo simulation number 10.\n",
      "Running Monte Carlo simulation number 20.\n",
      "Running Monte Carlo simulation number 30.\n",
      "Running Monte Carlo simulation number 40.\n",
      "Running Monte Carlo simulation number 50.\n",
      "Running Monte Carlo simulation number 60.\n",
      "Running Monte Carlo simulation number 70.\n",
      "Running Monte Carlo simulation number 80.\n",
      "Running Monte Carlo simulation number 90.\n",
      "Running Monte Carlo simulation number 100.\n",
      "Running Monte Carlo simulation number 110.\n",
      "Running Monte Carlo simulation number 120.\n",
      "Running Monte Carlo simulation number 130.\n",
      "Running Monte Carlo simulation number 140.\n",
      "Running Monte Carlo simulation number 150.\n",
      "Running Monte Carlo simulation number 160.\n",
      "Running Monte Carlo simulation number 170.\n",
      "Running Monte Carlo simulation number 180.\n",
      "Running Monte Carlo simulation number 190.\n",
      "Running Monte Carlo simulation number 200.\n",
      "Running Monte Carlo simulation number 210.\n",
      "Running Monte Carlo simulation number 220.\n",
      "Running Monte Carlo simulation number 230.\n",
      "Running Monte Carlo simulation number 240.\n",
      "Running Monte Carlo simulation number 250.\n",
      "Running Monte Carlo simulation number 260.\n",
      "Running Monte Carlo simulation number 270.\n",
      "Running Monte Carlo simulation number 280.\n",
      "Running Monte Carlo simulation number 290.\n",
      "Running Monte Carlo simulation number 300.\n",
      "Running Monte Carlo simulation number 310.\n",
      "Running Monte Carlo simulation number 320.\n",
      "Running Monte Carlo simulation number 330.\n",
      "Running Monte Carlo simulation number 340.\n",
      "Running Monte Carlo simulation number 350.\n",
      "Running Monte Carlo simulation number 360.\n",
      "Running Monte Carlo simulation number 370.\n",
      "Running Monte Carlo simulation number 380.\n",
      "Running Monte Carlo simulation number 390.\n",
      "Running Monte Carlo simulation number 400.\n",
      "Running Monte Carlo simulation number 410.\n",
      "Running Monte Carlo simulation number 420.\n",
      "Running Monte Carlo simulation number 430.\n",
      "Running Monte Carlo simulation number 440.\n",
      "Running Monte Carlo simulation number 450.\n",
      "Running Monte Carlo simulation number 460.\n",
      "Running Monte Carlo simulation number 470.\n",
      "Running Monte Carlo simulation number 480.\n",
      "Running Monte Carlo simulation number 490.\n"
     ]
    },
    {
     "data": {
      "text/html": [
       "<div>\n",
       "<style scoped>\n",
       "    .dataframe tbody tr th:only-of-type {\n",
       "        vertical-align: middle;\n",
       "    }\n",
       "\n",
       "    .dataframe tbody tr th {\n",
       "        vertical-align: top;\n",
       "    }\n",
       "\n",
       "    .dataframe thead th {\n",
       "        text-align: right;\n",
       "    }\n",
       "</style>\n",
       "<table border=\"1\" class=\"dataframe\">\n",
       "  <thead>\n",
       "    <tr style=\"text-align: right;\">\n",
       "      <th></th>\n",
       "      <th>0</th>\n",
       "      <th>1</th>\n",
       "      <th>2</th>\n",
       "      <th>3</th>\n",
       "      <th>4</th>\n",
       "      <th>5</th>\n",
       "      <th>6</th>\n",
       "      <th>7</th>\n",
       "      <th>8</th>\n",
       "      <th>9</th>\n",
       "      <th>...</th>\n",
       "      <th>490</th>\n",
       "      <th>491</th>\n",
       "      <th>492</th>\n",
       "      <th>493</th>\n",
       "      <th>494</th>\n",
       "      <th>495</th>\n",
       "      <th>496</th>\n",
       "      <th>497</th>\n",
       "      <th>498</th>\n",
       "      <th>499</th>\n",
       "    </tr>\n",
       "  </thead>\n",
       "  <tbody>\n",
       "    <tr>\n",
       "      <th>0</th>\n",
       "      <td>1.000000</td>\n",
       "      <td>1.000000</td>\n",
       "      <td>1.000000</td>\n",
       "      <td>1.000000</td>\n",
       "      <td>1.000000</td>\n",
       "      <td>1.000000</td>\n",
       "      <td>1.000000</td>\n",
       "      <td>1.000000</td>\n",
       "      <td>1.000000</td>\n",
       "      <td>1.000000</td>\n",
       "      <td>...</td>\n",
       "      <td>1.000000</td>\n",
       "      <td>1.000000</td>\n",
       "      <td>1.000000</td>\n",
       "      <td>1.000000</td>\n",
       "      <td>1.000000</td>\n",
       "      <td>1.000000</td>\n",
       "      <td>1.000000</td>\n",
       "      <td>1.000000</td>\n",
       "      <td>1.000000</td>\n",
       "      <td>1.000000</td>\n",
       "    </tr>\n",
       "    <tr>\n",
       "      <th>1</th>\n",
       "      <td>0.990309</td>\n",
       "      <td>1.001043</td>\n",
       "      <td>1.002638</td>\n",
       "      <td>1.000927</td>\n",
       "      <td>1.000690</td>\n",
       "      <td>1.002885</td>\n",
       "      <td>1.004576</td>\n",
       "      <td>0.998779</td>\n",
       "      <td>1.000714</td>\n",
       "      <td>0.991979</td>\n",
       "      <td>...</td>\n",
       "      <td>1.001378</td>\n",
       "      <td>1.002587</td>\n",
       "      <td>0.999892</td>\n",
       "      <td>0.995811</td>\n",
       "      <td>1.000089</td>\n",
       "      <td>1.003451</td>\n",
       "      <td>0.999945</td>\n",
       "      <td>0.992307</td>\n",
       "      <td>0.999144</td>\n",
       "      <td>1.004126</td>\n",
       "    </tr>\n",
       "    <tr>\n",
       "      <th>2</th>\n",
       "      <td>0.990177</td>\n",
       "      <td>1.003584</td>\n",
       "      <td>1.007770</td>\n",
       "      <td>1.005378</td>\n",
       "      <td>1.005026</td>\n",
       "      <td>1.000521</td>\n",
       "      <td>1.003130</td>\n",
       "      <td>0.997525</td>\n",
       "      <td>0.995340</td>\n",
       "      <td>0.993256</td>\n",
       "      <td>...</td>\n",
       "      <td>1.004040</td>\n",
       "      <td>1.000890</td>\n",
       "      <td>1.006866</td>\n",
       "      <td>0.998859</td>\n",
       "      <td>1.004494</td>\n",
       "      <td>1.002839</td>\n",
       "      <td>0.995503</td>\n",
       "      <td>0.990174</td>\n",
       "      <td>1.002393</td>\n",
       "      <td>1.006252</td>\n",
       "    </tr>\n",
       "    <tr>\n",
       "      <th>3</th>\n",
       "      <td>0.991793</td>\n",
       "      <td>1.001223</td>\n",
       "      <td>1.012643</td>\n",
       "      <td>1.003692</td>\n",
       "      <td>1.003907</td>\n",
       "      <td>1.000033</td>\n",
       "      <td>1.005488</td>\n",
       "      <td>1.002396</td>\n",
       "      <td>1.000494</td>\n",
       "      <td>0.992016</td>\n",
       "      <td>...</td>\n",
       "      <td>1.003664</td>\n",
       "      <td>0.999071</td>\n",
       "      <td>1.005578</td>\n",
       "      <td>0.991661</td>\n",
       "      <td>1.007347</td>\n",
       "      <td>0.998041</td>\n",
       "      <td>1.001152</td>\n",
       "      <td>0.985629</td>\n",
       "      <td>1.008949</td>\n",
       "      <td>1.008687</td>\n",
       "    </tr>\n",
       "    <tr>\n",
       "      <th>4</th>\n",
       "      <td>0.993139</td>\n",
       "      <td>0.996590</td>\n",
       "      <td>1.010062</td>\n",
       "      <td>1.003968</td>\n",
       "      <td>1.005149</td>\n",
       "      <td>1.000635</td>\n",
       "      <td>1.001173</td>\n",
       "      <td>1.005995</td>\n",
       "      <td>0.996788</td>\n",
       "      <td>0.995932</td>\n",
       "      <td>...</td>\n",
       "      <td>1.001751</td>\n",
       "      <td>1.003851</td>\n",
       "      <td>1.005430</td>\n",
       "      <td>0.995009</td>\n",
       "      <td>1.009679</td>\n",
       "      <td>0.999272</td>\n",
       "      <td>1.007776</td>\n",
       "      <td>0.982225</td>\n",
       "      <td>1.013205</td>\n",
       "      <td>1.009488</td>\n",
       "    </tr>\n",
       "    <tr>\n",
       "      <th>...</th>\n",
       "      <td>...</td>\n",
       "      <td>...</td>\n",
       "      <td>...</td>\n",
       "      <td>...</td>\n",
       "      <td>...</td>\n",
       "      <td>...</td>\n",
       "      <td>...</td>\n",
       "      <td>...</td>\n",
       "      <td>...</td>\n",
       "      <td>...</td>\n",
       "      <td>...</td>\n",
       "      <td>...</td>\n",
       "      <td>...</td>\n",
       "      <td>...</td>\n",
       "      <td>...</td>\n",
       "      <td>...</td>\n",
       "      <td>...</td>\n",
       "      <td>...</td>\n",
       "      <td>...</td>\n",
       "      <td>...</td>\n",
       "      <td>...</td>\n",
       "    </tr>\n",
       "    <tr>\n",
       "      <th>7556</th>\n",
       "      <td>11.758474</td>\n",
       "      <td>13.932317</td>\n",
       "      <td>6.860244</td>\n",
       "      <td>13.079864</td>\n",
       "      <td>11.795575</td>\n",
       "      <td>13.577848</td>\n",
       "      <td>11.018845</td>\n",
       "      <td>6.926687</td>\n",
       "      <td>6.631994</td>\n",
       "      <td>10.261734</td>\n",
       "      <td>...</td>\n",
       "      <td>13.332714</td>\n",
       "      <td>13.556032</td>\n",
       "      <td>13.406190</td>\n",
       "      <td>14.039353</td>\n",
       "      <td>16.285555</td>\n",
       "      <td>16.433236</td>\n",
       "      <td>18.367187</td>\n",
       "      <td>8.437005</td>\n",
       "      <td>14.725621</td>\n",
       "      <td>14.630170</td>\n",
       "    </tr>\n",
       "    <tr>\n",
       "      <th>7557</th>\n",
       "      <td>11.711514</td>\n",
       "      <td>14.005490</td>\n",
       "      <td>6.808782</td>\n",
       "      <td>13.084527</td>\n",
       "      <td>11.819003</td>\n",
       "      <td>13.532745</td>\n",
       "      <td>11.010522</td>\n",
       "      <td>6.968629</td>\n",
       "      <td>6.684979</td>\n",
       "      <td>10.293624</td>\n",
       "      <td>...</td>\n",
       "      <td>13.397384</td>\n",
       "      <td>13.534975</td>\n",
       "      <td>13.361209</td>\n",
       "      <td>14.124871</td>\n",
       "      <td>16.327622</td>\n",
       "      <td>16.511671</td>\n",
       "      <td>18.401879</td>\n",
       "      <td>8.465496</td>\n",
       "      <td>14.737283</td>\n",
       "      <td>14.572662</td>\n",
       "    </tr>\n",
       "    <tr>\n",
       "      <th>7558</th>\n",
       "      <td>11.749832</td>\n",
       "      <td>14.110839</td>\n",
       "      <td>6.800145</td>\n",
       "      <td>13.086283</td>\n",
       "      <td>11.810494</td>\n",
       "      <td>13.459985</td>\n",
       "      <td>10.999629</td>\n",
       "      <td>7.006648</td>\n",
       "      <td>6.673083</td>\n",
       "      <td>10.291750</td>\n",
       "      <td>...</td>\n",
       "      <td>13.397629</td>\n",
       "      <td>13.582695</td>\n",
       "      <td>13.348968</td>\n",
       "      <td>14.141194</td>\n",
       "      <td>16.344756</td>\n",
       "      <td>16.413161</td>\n",
       "      <td>18.355222</td>\n",
       "      <td>8.516844</td>\n",
       "      <td>14.750361</td>\n",
       "      <td>14.507055</td>\n",
       "    </tr>\n",
       "    <tr>\n",
       "      <th>7559</th>\n",
       "      <td>11.746767</td>\n",
       "      <td>14.019846</td>\n",
       "      <td>6.789808</td>\n",
       "      <td>13.123020</td>\n",
       "      <td>11.809576</td>\n",
       "      <td>13.591679</td>\n",
       "      <td>10.998030</td>\n",
       "      <td>6.992215</td>\n",
       "      <td>6.717510</td>\n",
       "      <td>10.394878</td>\n",
       "      <td>...</td>\n",
       "      <td>13.430104</td>\n",
       "      <td>13.578358</td>\n",
       "      <td>13.313280</td>\n",
       "      <td>14.091704</td>\n",
       "      <td>16.293446</td>\n",
       "      <td>16.442645</td>\n",
       "      <td>18.422077</td>\n",
       "      <td>8.522148</td>\n",
       "      <td>14.748347</td>\n",
       "      <td>14.461437</td>\n",
       "    </tr>\n",
       "    <tr>\n",
       "      <th>7560</th>\n",
       "      <td>11.780153</td>\n",
       "      <td>14.097644</td>\n",
       "      <td>6.767482</td>\n",
       "      <td>13.228102</td>\n",
       "      <td>11.834099</td>\n",
       "      <td>13.574100</td>\n",
       "      <td>10.925859</td>\n",
       "      <td>6.993471</td>\n",
       "      <td>6.731465</td>\n",
       "      <td>10.437653</td>\n",
       "      <td>...</td>\n",
       "      <td>13.430022</td>\n",
       "      <td>13.545447</td>\n",
       "      <td>13.342750</td>\n",
       "      <td>14.117176</td>\n",
       "      <td>16.199823</td>\n",
       "      <td>16.508448</td>\n",
       "      <td>18.350871</td>\n",
       "      <td>8.499819</td>\n",
       "      <td>14.813766</td>\n",
       "      <td>14.420373</td>\n",
       "    </tr>\n",
       "  </tbody>\n",
       "</table>\n",
       "<p>7561 rows × 500 columns</p>\n",
       "</div>"
      ],
      "text/plain": [
       "            0          1         2          3          4          5    \\\n",
       "0      1.000000   1.000000  1.000000   1.000000   1.000000   1.000000   \n",
       "1      0.990309   1.001043  1.002638   1.000927   1.000690   1.002885   \n",
       "2      0.990177   1.003584  1.007770   1.005378   1.005026   1.000521   \n",
       "3      0.991793   1.001223  1.012643   1.003692   1.003907   1.000033   \n",
       "4      0.993139   0.996590  1.010062   1.003968   1.005149   1.000635   \n",
       "...         ...        ...       ...        ...        ...        ...   \n",
       "7556  11.758474  13.932317  6.860244  13.079864  11.795575  13.577848   \n",
       "7557  11.711514  14.005490  6.808782  13.084527  11.819003  13.532745   \n",
       "7558  11.749832  14.110839  6.800145  13.086283  11.810494  13.459985   \n",
       "7559  11.746767  14.019846  6.789808  13.123020  11.809576  13.591679   \n",
       "7560  11.780153  14.097644  6.767482  13.228102  11.834099  13.574100   \n",
       "\n",
       "            6         7         8          9    ...        490        491  \\\n",
       "0      1.000000  1.000000  1.000000   1.000000  ...   1.000000   1.000000   \n",
       "1      1.004576  0.998779  1.000714   0.991979  ...   1.001378   1.002587   \n",
       "2      1.003130  0.997525  0.995340   0.993256  ...   1.004040   1.000890   \n",
       "3      1.005488  1.002396  1.000494   0.992016  ...   1.003664   0.999071   \n",
       "4      1.001173  1.005995  0.996788   0.995932  ...   1.001751   1.003851   \n",
       "...         ...       ...       ...        ...  ...        ...        ...   \n",
       "7556  11.018845  6.926687  6.631994  10.261734  ...  13.332714  13.556032   \n",
       "7557  11.010522  6.968629  6.684979  10.293624  ...  13.397384  13.534975   \n",
       "7558  10.999629  7.006648  6.673083  10.291750  ...  13.397629  13.582695   \n",
       "7559  10.998030  6.992215  6.717510  10.394878  ...  13.430104  13.578358   \n",
       "7560  10.925859  6.993471  6.731465  10.437653  ...  13.430022  13.545447   \n",
       "\n",
       "            492        493        494        495        496       497  \\\n",
       "0      1.000000   1.000000   1.000000   1.000000   1.000000  1.000000   \n",
       "1      0.999892   0.995811   1.000089   1.003451   0.999945  0.992307   \n",
       "2      1.006866   0.998859   1.004494   1.002839   0.995503  0.990174   \n",
       "3      1.005578   0.991661   1.007347   0.998041   1.001152  0.985629   \n",
       "4      1.005430   0.995009   1.009679   0.999272   1.007776  0.982225   \n",
       "...         ...        ...        ...        ...        ...       ...   \n",
       "7556  13.406190  14.039353  16.285555  16.433236  18.367187  8.437005   \n",
       "7557  13.361209  14.124871  16.327622  16.511671  18.401879  8.465496   \n",
       "7558  13.348968  14.141194  16.344756  16.413161  18.355222  8.516844   \n",
       "7559  13.313280  14.091704  16.293446  16.442645  18.422077  8.522148   \n",
       "7560  13.342750  14.117176  16.199823  16.508448  18.350871  8.499819   \n",
       "\n",
       "            498        499  \n",
       "0      1.000000   1.000000  \n",
       "1      0.999144   1.004126  \n",
       "2      1.002393   1.006252  \n",
       "3      1.008949   1.008687  \n",
       "4      1.013205   1.009488  \n",
       "...         ...        ...  \n",
       "7556  14.725621  14.630170  \n",
       "7557  14.737283  14.572662  \n",
       "7558  14.750361  14.507055  \n",
       "7559  14.748347  14.461437  \n",
       "7560  14.813766  14.420373  \n",
       "\n",
       "[7561 rows x 500 columns]"
      ]
     },
     "execution_count": 32,
     "metadata": {},
     "output_type": "execute_result"
    }
   ],
   "source": [
    "# Run the Monte Carlo simulation to forecast 30 years cumulative returns\n",
    "monte_carlo_simulation.calc_cumulative_return()\n"
   ]
  },
  {
   "cell_type": "code",
   "execution_count": 33,
   "metadata": {},
   "outputs": [
    {
     "data": {
      "image/png": "[encoded data removed]",
      "text/plain": [
       "<Figure size 432x288 with 1 Axes>"
      ]
     },
     "metadata": {
      "needs_background": "light"
     },
     "output_type": "display_data"
    }
   ],
   "source": [
    "# Visualize the 30-year Monte Carlo simulation by creating an\n",
    "# overlay line plot\n",
    "mc_line_plot = monte_carlo_simulation.plot_simulation()\n"
   ]
  },
  {
   "cell_type": "markdown",
   "metadata": {},
   "source": [
    "#### Step 3: Plot the probability distribution of the Monte Carlo simulation."
   ]
  },
  {
   "cell_type": "code",
   "execution_count": 34,
   "metadata": {},
   "outputs": [
    {
     "data": {
      "image/png": "[encoded data removed]",
      "text/plain": [
       "<Figure size 432x288 with 1 Axes>"
      ]
     },
     "metadata": {
      "needs_background": "light"
     },
     "output_type": "display_data"
    }
   ],
   "source": [
    "# Visualize the probability distribution of the 30-year Monte Carlo simulation \n",
    "# by plotting a histogram\n",
    "mc_distribution_plot = monte_carlo_simulation.plot_distribution()\n"
   ]
  },
  {
   "cell_type": "markdown",
   "metadata": {},
   "source": [
    "#### Step 4: Generate the summary statistics for the Monte Carlo simulation."
   ]
  },
  {
   "cell_type": "code",
   "execution_count": 39,
   "metadata": {},
   "outputs": [
    {
     "name": "stdout",
     "output_type": "stream",
     "text": [
      "count           500.000000\n",
      "mean             12.811413\n",
      "std               4.003242\n",
      "min               5.456994\n",
      "25%               9.846136\n",
      "50%              12.299143\n",
      "75%              15.220645\n",
      "max              29.742821\n",
      "95% CI Lower      6.819508\n",
      "95% CI Upper     21.935610\n",
      "Name: 7560, dtype: float64\n"
     ]
    }
   ],
   "source": [
    "# Generate summary statistics from the 30-year Monte Carlo simulation results\n",
    "# Save the results as a variable\n",
    "mc_stats =monte_carlo_simulation.summarize_cumulative_return()\n",
    "\n",
    "\n",
    "# Review the 30-year Monte Carlo summary statistics\n",
    "print(mc_stats)"
   ]
  },
  {
   "cell_type": "markdown",
   "metadata": {},
   "source": [
    "### Analyze the Retirement Portfolio Forecasts\n",
    "\n",
    "Using the current value of only the stock and bond portion of the member's portfolio and the summary statistics that you generated from the Monte Carlo simulation, answer the following question in your Jupyter notebook:\n",
    "\n",
    "-  What are the lower and upper bounds for the expected value of the portfolio with a 95% confidence interval?\n"
   ]
  },
  {
   "cell_type": "code",
   "execution_count": 40,
   "metadata": {},
   "outputs": [
    {
     "name": "stdout",
     "output_type": "stream",
     "text": [
      "The current balance of the stock and bond portion of the members portfolio is $ 57374.10\n"
     ]
    }
   ],
   "source": [
    "# Print the current balance of the stock and bond portion of the members portfolio\n",
    "print(f\"The current balance of the stock and bond portion of the members portfolio is ${total_stocks_bonds: .2f}\")\n"
   ]
  },
  {
   "cell_type": "code",
   "execution_count": 43,
   "metadata": {},
   "outputs": [
    {
     "name": "stdout",
     "output_type": "stream",
     "text": [
      " The lower `95%` confidence intervals to calculate the range of the possible outcomes for the current stock/bond portfolio is $391,263.12\n",
      " The upper `95%` confidence intervals to calculate the range of the possible outcomes for the current stock/bond portfolio is $1,258,535.86\n",
      "There is a 95% chance that investing the Stock/Bond portion of the portfolio (current value $57,374.10) in a traditional 60/40 weight distribution over the next 30 years will result in a value within the range of $391,263.12 and $1,258,535.86.\n"
     ]
    }
   ],
   "source": [
    "# Use the lower and upper `95%` confidence intervals to calculate the range of the possible outcomes for the current stock/bond portfolio\n",
    "ci_lower_thirty_cumulative_return = mc_stats[8] * total_stocks_bonds\n",
    "ci_upper_thirty_cumulative_return = mc_stats[9] * total_stocks_bonds\n",
    "\n",
    "# Print the result of your calculations\n",
    "print(f\" The lower `95%` confidence intervals to calculate the range of the possible outcomes for the current stock/bond portfolio is ${ci_lower_thirty_cumulative_return :,.2f}\")\n",
    "print(f\" The upper `95%` confidence intervals to calculate the range of the possible outcomes for the current stock/bond portfolio is ${ci_upper_thirty_cumulative_return :,.2f}\")\n",
    "\n",
    "print(f\"There is a 95% chance that investing the Stock/Bond portion of the portfolio (current value ${total_stocks_bonds:,.2f}) in\"\n",
    "      f\" a traditional 60/40 weight distribution over the next 30 years will result in a value within the range of\"\n",
    "      f\" ${ci_lower_thirty_cumulative_return:,.2f} and ${ci_upper_thirty_cumulative_return:,.2f}.\")"
   ]
  },
  {
   "cell_type": "markdown",
   "metadata": {},
   "source": [
    "### Forecast Cumulative Returns in 10 Years\n",
    "\n",
    "The CTO of the credit union is impressed with your work on these planning tools but wonders if 30 years is a long time to wait until retirement. So, your next task is to adjust the retirement portfolio and run a new Monte Carlo simulation to find out if the changes will allow members to retire earlier.\n",
    "\n",
    "For this new Monte Carlo simulation, do the following: \n",
    "\n",
    "- Forecast the cumulative returns for 10 years from now. Because of the shortened investment horizon (30 years to 10 years), the portfolio needs to invest more heavily in the riskier asset&mdash;that is, stock&mdash;to help accumulate wealth for retirement. \n",
    "\n",
    "- Adjust the weights of the retirement portfolio so that the composition for the Monte Carlo simulation consists of 20% bonds and 80% stocks. \n",
    "\n",
    "- Run the simulation over 500 samples, and use the same data that the API call to Alpaca generated.\n",
    "\n",
    "- Based on the new Monte Carlo simulation, answer the following questions in your Jupyter notebook:\n",
    "\n",
    "    - Using the current value of only the stock and bond portion of the member's portfolio and the summary statistics that you generated from the new Monte Carlo simulation, what are the lower and upper bounds for the expected value of the portfolio (with the new weights) with a 95% confidence interval?\n",
    "\n",
    "    - Will weighting the portfolio more heavily toward stocks allow the credit union members to retire after only 10 years?\n"
   ]
  },
  {
   "cell_type": "code",
   "execution_count": 44,
   "metadata": {},
   "outputs": [
    {
     "data": {
      "text/html": [
       "<div>\n",
       "<style scoped>\n",
       "    .dataframe tbody tr th:only-of-type {\n",
       "        vertical-align: middle;\n",
       "    }\n",
       "\n",
       "    .dataframe tbody tr th {\n",
       "        vertical-align: top;\n",
       "    }\n",
       "\n",
       "    .dataframe thead tr th {\n",
       "        text-align: left;\n",
       "    }\n",
       "\n",
       "    .dataframe thead tr:last-of-type th {\n",
       "        text-align: right;\n",
       "    }\n",
       "</style>\n",
       "<table border=\"1\" class=\"dataframe\">\n",
       "  <thead>\n",
       "    <tr>\n",
       "      <th></th>\n",
       "      <th colspan=\"6\" halign=\"left\">AGG</th>\n",
       "      <th colspan=\"6\" halign=\"left\">SPY</th>\n",
       "    </tr>\n",
       "    <tr>\n",
       "      <th></th>\n",
       "      <th>open</th>\n",
       "      <th>high</th>\n",
       "      <th>low</th>\n",
       "      <th>close</th>\n",
       "      <th>volume</th>\n",
       "      <th>daily_return</th>\n",
       "      <th>open</th>\n",
       "      <th>high</th>\n",
       "      <th>low</th>\n",
       "      <th>close</th>\n",
       "      <th>volume</th>\n",
       "      <th>daily_return</th>\n",
       "    </tr>\n",
       "    <tr>\n",
       "      <th>time</th>\n",
       "      <th></th>\n",
       "      <th></th>\n",
       "      <th></th>\n",
       "      <th></th>\n",
       "      <th></th>\n",
       "      <th></th>\n",
       "      <th></th>\n",
       "      <th></th>\n",
       "      <th></th>\n",
       "      <th></th>\n",
       "      <th></th>\n",
       "      <th></th>\n",
       "    </tr>\n",
       "  </thead>\n",
       "  <tbody>\n",
       "    <tr>\n",
       "      <th>2021-02-04 00:00:00-05:00</th>\n",
       "      <td>116.75</td>\n",
       "      <td>116.8900</td>\n",
       "      <td>116.6900</td>\n",
       "      <td>116.86</td>\n",
       "      <td>5128808</td>\n",
       "      <td>NaN</td>\n",
       "      <td>382.96</td>\n",
       "      <td>386.24</td>\n",
       "      <td>381.9655</td>\n",
       "      <td>386.17</td>\n",
       "      <td>40030930</td>\n",
       "      <td>NaN</td>\n",
       "    </tr>\n",
       "    <tr>\n",
       "      <th>2021-02-05 00:00:00-05:00</th>\n",
       "      <td>116.91</td>\n",
       "      <td>116.9600</td>\n",
       "      <td>116.7000</td>\n",
       "      <td>116.72</td>\n",
       "      <td>3230833</td>\n",
       "      <td>-0.001198</td>\n",
       "      <td>388.20</td>\n",
       "      <td>388.47</td>\n",
       "      <td>386.1444</td>\n",
       "      <td>387.68</td>\n",
       "      <td>39312522</td>\n",
       "      <td>0.003910</td>\n",
       "    </tr>\n",
       "    <tr>\n",
       "      <th>2021-02-08 00:00:00-05:00</th>\n",
       "      <td>116.75</td>\n",
       "      <td>116.9285</td>\n",
       "      <td>116.7200</td>\n",
       "      <td>116.84</td>\n",
       "      <td>3923885</td>\n",
       "      <td>0.001028</td>\n",
       "      <td>389.27</td>\n",
       "      <td>390.54</td>\n",
       "      <td>388.3500</td>\n",
       "      <td>390.53</td>\n",
       "      <td>33986650</td>\n",
       "      <td>0.007351</td>\n",
       "    </tr>\n",
       "    <tr>\n",
       "      <th>2021-02-09 00:00:00-05:00</th>\n",
       "      <td>116.94</td>\n",
       "      <td>116.9700</td>\n",
       "      <td>116.8215</td>\n",
       "      <td>116.86</td>\n",
       "      <td>4050208</td>\n",
       "      <td>0.000171</td>\n",
       "      <td>389.61</td>\n",
       "      <td>390.89</td>\n",
       "      <td>389.1700</td>\n",
       "      <td>390.25</td>\n",
       "      <td>30861522</td>\n",
       "      <td>-0.000717</td>\n",
       "    </tr>\n",
       "    <tr>\n",
       "      <th>2021-02-10 00:00:00-05:00</th>\n",
       "      <td>116.97</td>\n",
       "      <td>117.0100</td>\n",
       "      <td>116.9200</td>\n",
       "      <td>117.00</td>\n",
       "      <td>3448438</td>\n",
       "      <td>0.001198</td>\n",
       "      <td>392.12</td>\n",
       "      <td>392.28</td>\n",
       "      <td>387.5000</td>\n",
       "      <td>390.10</td>\n",
       "      <td>53797977</td>\n",
       "      <td>-0.000384</td>\n",
       "    </tr>\n",
       "  </tbody>\n",
       "</table>\n",
       "</div>"
      ],
      "text/plain": [
       "                              AGG                                       \\\n",
       "                             open      high       low   close   volume   \n",
       "time                                                                     \n",
       "2021-02-04 00:00:00-05:00  116.75  116.8900  116.6900  116.86  5128808   \n",
       "2021-02-05 00:00:00-05:00  116.91  116.9600  116.7000  116.72  3230833   \n",
       "2021-02-08 00:00:00-05:00  116.75  116.9285  116.7200  116.84  3923885   \n",
       "2021-02-09 00:00:00-05:00  116.94  116.9700  116.8215  116.86  4050208   \n",
       "2021-02-10 00:00:00-05:00  116.97  117.0100  116.9200  117.00  3448438   \n",
       "\n",
       "                                           SPY                            \\\n",
       "                          daily_return    open    high       low   close   \n",
       "time                                                                       \n",
       "2021-02-04 00:00:00-05:00          NaN  382.96  386.24  381.9655  386.17   \n",
       "2021-02-05 00:00:00-05:00    -0.001198  388.20  388.47  386.1444  387.68   \n",
       "2021-02-08 00:00:00-05:00     0.001028  389.27  390.54  388.3500  390.53   \n",
       "2021-02-09 00:00:00-05:00     0.000171  389.61  390.89  389.1700  390.25   \n",
       "2021-02-10 00:00:00-05:00     0.001198  392.12  392.28  387.5000  390.10   \n",
       "\n",
       "                                                  \n",
       "                             volume daily_return  \n",
       "time                                              \n",
       "2021-02-04 00:00:00-05:00  40030930          NaN  \n",
       "2021-02-05 00:00:00-05:00  39312522     0.003910  \n",
       "2021-02-08 00:00:00-05:00  33986650     0.007351  \n",
       "2021-02-09 00:00:00-05:00  30861522    -0.000717  \n",
       "2021-02-10 00:00:00-05:00  53797977    -0.000384  "
      ]
     },
     "execution_count": 44,
     "metadata": {},
     "output_type": "execute_result"
    }
   ],
   "source": [
    "# Configure a Monte Carlo simulation to forecast 10 years cumulative returns\n",
    "# The weights should be split 20% to AGG and 80% to SPY.\n",
    "# Run 500 samples.\n",
    "mc_2080_weight = MCSimulation(\n",
    "    portfolio_data = prices_df,\n",
    "    weights = [.80,.20],\n",
    "    num_simulation = 500,\n",
    "    num_trading_days = 252*10\n",
    ")\n",
    "\n",
    "\n",
    "# Review the simulation input data\n",
    "mc_2080_weight.portfolio_data.head()\n"
   ]
  },
  {
   "cell_type": "code",
   "execution_count": 45,
   "metadata": {},
   "outputs": [
    {
     "name": "stdout",
     "output_type": "stream",
     "text": [
      "Running Monte Carlo simulation number 0.\n",
      "Running Monte Carlo simulation number 10.\n",
      "Running Monte Carlo simulation number 20.\n",
      "Running Monte Carlo simulation number 30.\n",
      "Running Monte Carlo simulation number 40.\n",
      "Running Monte Carlo simulation number 50.\n",
      "Running Monte Carlo simulation number 60.\n",
      "Running Monte Carlo simulation number 70.\n",
      "Running Monte Carlo simulation number 80.\n",
      "Running Monte Carlo simulation number 90.\n",
      "Running Monte Carlo simulation number 100.\n",
      "Running Monte Carlo simulation number 110.\n",
      "Running Monte Carlo simulation number 120.\n",
      "Running Monte Carlo simulation number 130.\n",
      "Running Monte Carlo simulation number 140.\n",
      "Running Monte Carlo simulation number 150.\n",
      "Running Monte Carlo simulation number 160.\n",
      "Running Monte Carlo simulation number 170.\n",
      "Running Monte Carlo simulation number 180.\n",
      "Running Monte Carlo simulation number 190.\n",
      "Running Monte Carlo simulation number 200.\n",
      "Running Monte Carlo simulation number 210.\n",
      "Running Monte Carlo simulation number 220.\n",
      "Running Monte Carlo simulation number 230.\n",
      "Running Monte Carlo simulation number 240.\n",
      "Running Monte Carlo simulation number 250.\n",
      "Running Monte Carlo simulation number 260.\n",
      "Running Monte Carlo simulation number 270.\n",
      "Running Monte Carlo simulation number 280.\n",
      "Running Monte Carlo simulation number 290.\n",
      "Running Monte Carlo simulation number 300.\n",
      "Running Monte Carlo simulation number 310.\n",
      "Running Monte Carlo simulation number 320.\n",
      "Running Monte Carlo simulation number 330.\n",
      "Running Monte Carlo simulation number 340.\n",
      "Running Monte Carlo simulation number 350.\n",
      "Running Monte Carlo simulation number 360.\n",
      "Running Monte Carlo simulation number 370.\n",
      "Running Monte Carlo simulation number 380.\n",
      "Running Monte Carlo simulation number 390.\n",
      "Running Monte Carlo simulation number 400.\n",
      "Running Monte Carlo simulation number 410.\n",
      "Running Monte Carlo simulation number 420.\n",
      "Running Monte Carlo simulation number 430.\n",
      "Running Monte Carlo simulation number 440.\n",
      "Running Monte Carlo simulation number 450.\n",
      "Running Monte Carlo simulation number 460.\n",
      "Running Monte Carlo simulation number 470.\n",
      "Running Monte Carlo simulation number 480.\n",
      "Running Monte Carlo simulation number 490.\n"
     ]
    },
    {
     "data": {
      "text/html": [
       "<div>\n",
       "<style scoped>\n",
       "    .dataframe tbody tr th:only-of-type {\n",
       "        vertical-align: middle;\n",
       "    }\n",
       "\n",
       "    .dataframe tbody tr th {\n",
       "        vertical-align: top;\n",
       "    }\n",
       "\n",
       "    .dataframe thead th {\n",
       "        text-align: right;\n",
       "    }\n",
       "</style>\n",
       "<table border=\"1\" class=\"dataframe\">\n",
       "  <thead>\n",
       "    <tr style=\"text-align: right;\">\n",
       "      <th></th>\n",
       "      <th>0</th>\n",
       "      <th>1</th>\n",
       "      <th>2</th>\n",
       "      <th>3</th>\n",
       "      <th>4</th>\n",
       "      <th>5</th>\n",
       "      <th>6</th>\n",
       "      <th>7</th>\n",
       "      <th>8</th>\n",
       "      <th>9</th>\n",
       "      <th>...</th>\n",
       "      <th>490</th>\n",
       "      <th>491</th>\n",
       "      <th>492</th>\n",
       "      <th>493</th>\n",
       "      <th>494</th>\n",
       "      <th>495</th>\n",
       "      <th>496</th>\n",
       "      <th>497</th>\n",
       "      <th>498</th>\n",
       "      <th>499</th>\n",
       "    </tr>\n",
       "  </thead>\n",
       "  <tbody>\n",
       "    <tr>\n",
       "      <th>0</th>\n",
       "      <td>1.000000</td>\n",
       "      <td>1.000000</td>\n",
       "      <td>1.000000</td>\n",
       "      <td>1.000000</td>\n",
       "      <td>1.000000</td>\n",
       "      <td>1.000000</td>\n",
       "      <td>1.000000</td>\n",
       "      <td>1.000000</td>\n",
       "      <td>1.000000</td>\n",
       "      <td>1.000000</td>\n",
       "      <td>...</td>\n",
       "      <td>1.000000</td>\n",
       "      <td>1.000000</td>\n",
       "      <td>1.000000</td>\n",
       "      <td>1.000000</td>\n",
       "      <td>1.000000</td>\n",
       "      <td>1.000000</td>\n",
       "      <td>1.000000</td>\n",
       "      <td>1.000000</td>\n",
       "      <td>1.000000</td>\n",
       "      <td>1.000000</td>\n",
       "    </tr>\n",
       "    <tr>\n",
       "      <th>1</th>\n",
       "      <td>1.004562</td>\n",
       "      <td>1.006625</td>\n",
       "      <td>1.001015</td>\n",
       "      <td>0.995194</td>\n",
       "      <td>0.996676</td>\n",
       "      <td>0.998365</td>\n",
       "      <td>0.999116</td>\n",
       "      <td>0.998851</td>\n",
       "      <td>0.997954</td>\n",
       "      <td>0.999344</td>\n",
       "      <td>...</td>\n",
       "      <td>0.995584</td>\n",
       "      <td>0.997972</td>\n",
       "      <td>0.998681</td>\n",
       "      <td>0.996377</td>\n",
       "      <td>0.997007</td>\n",
       "      <td>0.998570</td>\n",
       "      <td>0.993945</td>\n",
       "      <td>1.001446</td>\n",
       "      <td>0.998418</td>\n",
       "      <td>1.003857</td>\n",
       "    </tr>\n",
       "    <tr>\n",
       "      <th>2</th>\n",
       "      <td>1.006535</td>\n",
       "      <td>1.008315</td>\n",
       "      <td>1.000560</td>\n",
       "      <td>0.994924</td>\n",
       "      <td>0.996307</td>\n",
       "      <td>0.999828</td>\n",
       "      <td>0.996154</td>\n",
       "      <td>0.997265</td>\n",
       "      <td>0.995995</td>\n",
       "      <td>1.000939</td>\n",
       "      <td>...</td>\n",
       "      <td>0.996346</td>\n",
       "      <td>0.997712</td>\n",
       "      <td>0.996844</td>\n",
       "      <td>0.994468</td>\n",
       "      <td>0.994268</td>\n",
       "      <td>0.994746</td>\n",
       "      <td>0.996876</td>\n",
       "      <td>0.998065</td>\n",
       "      <td>0.995864</td>\n",
       "      <td>1.001743</td>\n",
       "    </tr>\n",
       "    <tr>\n",
       "      <th>3</th>\n",
       "      <td>1.008857</td>\n",
       "      <td>1.005239</td>\n",
       "      <td>0.999372</td>\n",
       "      <td>0.993352</td>\n",
       "      <td>0.994752</td>\n",
       "      <td>1.001414</td>\n",
       "      <td>0.994386</td>\n",
       "      <td>0.999269</td>\n",
       "      <td>0.993094</td>\n",
       "      <td>1.006844</td>\n",
       "      <td>...</td>\n",
       "      <td>0.993075</td>\n",
       "      <td>1.000553</td>\n",
       "      <td>0.997590</td>\n",
       "      <td>0.994514</td>\n",
       "      <td>0.990760</td>\n",
       "      <td>0.992323</td>\n",
       "      <td>0.993952</td>\n",
       "      <td>0.996022</td>\n",
       "      <td>1.000590</td>\n",
       "      <td>1.000395</td>\n",
       "    </tr>\n",
       "    <tr>\n",
       "      <th>4</th>\n",
       "      <td>1.007074</td>\n",
       "      <td>1.004229</td>\n",
       "      <td>1.000015</td>\n",
       "      <td>0.991994</td>\n",
       "      <td>0.992929</td>\n",
       "      <td>1.002759</td>\n",
       "      <td>0.995409</td>\n",
       "      <td>0.998979</td>\n",
       "      <td>0.991976</td>\n",
       "      <td>1.009029</td>\n",
       "      <td>...</td>\n",
       "      <td>0.993034</td>\n",
       "      <td>0.996063</td>\n",
       "      <td>0.995287</td>\n",
       "      <td>0.993441</td>\n",
       "      <td>0.990143</td>\n",
       "      <td>0.992726</td>\n",
       "      <td>0.993429</td>\n",
       "      <td>0.995128</td>\n",
       "      <td>0.998898</td>\n",
       "      <td>0.997046</td>\n",
       "    </tr>\n",
       "    <tr>\n",
       "      <th>...</th>\n",
       "      <td>...</td>\n",
       "      <td>...</td>\n",
       "      <td>...</td>\n",
       "      <td>...</td>\n",
       "      <td>...</td>\n",
       "      <td>...</td>\n",
       "      <td>...</td>\n",
       "      <td>...</td>\n",
       "      <td>...</td>\n",
       "      <td>...</td>\n",
       "      <td>...</td>\n",
       "      <td>...</td>\n",
       "      <td>...</td>\n",
       "      <td>...</td>\n",
       "      <td>...</td>\n",
       "      <td>...</td>\n",
       "      <td>...</td>\n",
       "      <td>...</td>\n",
       "      <td>...</td>\n",
       "      <td>...</td>\n",
       "      <td>...</td>\n",
       "    </tr>\n",
       "    <tr>\n",
       "      <th>2516</th>\n",
       "      <td>1.019032</td>\n",
       "      <td>1.151515</td>\n",
       "      <td>1.264135</td>\n",
       "      <td>1.310381</td>\n",
       "      <td>1.227628</td>\n",
       "      <td>1.649764</td>\n",
       "      <td>1.758803</td>\n",
       "      <td>1.381592</td>\n",
       "      <td>1.145649</td>\n",
       "      <td>1.325212</td>\n",
       "      <td>...</td>\n",
       "      <td>1.261423</td>\n",
       "      <td>1.177281</td>\n",
       "      <td>0.891332</td>\n",
       "      <td>1.524332</td>\n",
       "      <td>1.141815</td>\n",
       "      <td>1.126776</td>\n",
       "      <td>1.367601</td>\n",
       "      <td>1.217936</td>\n",
       "      <td>1.397370</td>\n",
       "      <td>1.082990</td>\n",
       "    </tr>\n",
       "    <tr>\n",
       "      <th>2517</th>\n",
       "      <td>1.016989</td>\n",
       "      <td>1.150994</td>\n",
       "      <td>1.263458</td>\n",
       "      <td>1.315790</td>\n",
       "      <td>1.221963</td>\n",
       "      <td>1.644021</td>\n",
       "      <td>1.763319</td>\n",
       "      <td>1.386648</td>\n",
       "      <td>1.136951</td>\n",
       "      <td>1.323758</td>\n",
       "      <td>...</td>\n",
       "      <td>1.261179</td>\n",
       "      <td>1.177957</td>\n",
       "      <td>0.890358</td>\n",
       "      <td>1.519835</td>\n",
       "      <td>1.141846</td>\n",
       "      <td>1.128444</td>\n",
       "      <td>1.369137</td>\n",
       "      <td>1.214181</td>\n",
       "      <td>1.404019</td>\n",
       "      <td>1.082402</td>\n",
       "    </tr>\n",
       "    <tr>\n",
       "      <th>2518</th>\n",
       "      <td>1.015123</td>\n",
       "      <td>1.143149</td>\n",
       "      <td>1.272407</td>\n",
       "      <td>1.316744</td>\n",
       "      <td>1.220833</td>\n",
       "      <td>1.649965</td>\n",
       "      <td>1.758356</td>\n",
       "      <td>1.383330</td>\n",
       "      <td>1.133474</td>\n",
       "      <td>1.329164</td>\n",
       "      <td>...</td>\n",
       "      <td>1.264298</td>\n",
       "      <td>1.180404</td>\n",
       "      <td>0.890927</td>\n",
       "      <td>1.519807</td>\n",
       "      <td>1.145029</td>\n",
       "      <td>1.124066</td>\n",
       "      <td>1.371630</td>\n",
       "      <td>1.217141</td>\n",
       "      <td>1.397711</td>\n",
       "      <td>1.077834</td>\n",
       "    </tr>\n",
       "    <tr>\n",
       "      <th>2519</th>\n",
       "      <td>1.014539</td>\n",
       "      <td>1.146353</td>\n",
       "      <td>1.269114</td>\n",
       "      <td>1.319488</td>\n",
       "      <td>1.225308</td>\n",
       "      <td>1.649132</td>\n",
       "      <td>1.757351</td>\n",
       "      <td>1.384941</td>\n",
       "      <td>1.135639</td>\n",
       "      <td>1.333143</td>\n",
       "      <td>...</td>\n",
       "      <td>1.267447</td>\n",
       "      <td>1.178045</td>\n",
       "      <td>0.887903</td>\n",
       "      <td>1.518950</td>\n",
       "      <td>1.141614</td>\n",
       "      <td>1.119611</td>\n",
       "      <td>1.371997</td>\n",
       "      <td>1.218474</td>\n",
       "      <td>1.396066</td>\n",
       "      <td>1.076889</td>\n",
       "    </tr>\n",
       "    <tr>\n",
       "      <th>2520</th>\n",
       "      <td>1.011158</td>\n",
       "      <td>1.148179</td>\n",
       "      <td>1.262664</td>\n",
       "      <td>1.323570</td>\n",
       "      <td>1.226534</td>\n",
       "      <td>1.652948</td>\n",
       "      <td>1.761234</td>\n",
       "      <td>1.387109</td>\n",
       "      <td>1.136372</td>\n",
       "      <td>1.341214</td>\n",
       "      <td>...</td>\n",
       "      <td>1.270674</td>\n",
       "      <td>1.177536</td>\n",
       "      <td>0.891234</td>\n",
       "      <td>1.521496</td>\n",
       "      <td>1.142631</td>\n",
       "      <td>1.126612</td>\n",
       "      <td>1.368531</td>\n",
       "      <td>1.218300</td>\n",
       "      <td>1.401112</td>\n",
       "      <td>1.078407</td>\n",
       "    </tr>\n",
       "  </tbody>\n",
       "</table>\n",
       "<p>2521 rows × 500 columns</p>\n",
       "</div>"
      ],
      "text/plain": [
       "           0         1         2         3         4         5         6    \\\n",
       "0     1.000000  1.000000  1.000000  1.000000  1.000000  1.000000  1.000000   \n",
       "1     1.004562  1.006625  1.001015  0.995194  0.996676  0.998365  0.999116   \n",
       "2     1.006535  1.008315  1.000560  0.994924  0.996307  0.999828  0.996154   \n",
       "3     1.008857  1.005239  0.999372  0.993352  0.994752  1.001414  0.994386   \n",
       "4     1.007074  1.004229  1.000015  0.991994  0.992929  1.002759  0.995409   \n",
       "...        ...       ...       ...       ...       ...       ...       ...   \n",
       "2516  1.019032  1.151515  1.264135  1.310381  1.227628  1.649764  1.758803   \n",
       "2517  1.016989  1.150994  1.263458  1.315790  1.221963  1.644021  1.763319   \n",
       "2518  1.015123  1.143149  1.272407  1.316744  1.220833  1.649965  1.758356   \n",
       "2519  1.014539  1.146353  1.269114  1.319488  1.225308  1.649132  1.757351   \n",
       "2520  1.011158  1.148179  1.262664  1.323570  1.226534  1.652948  1.761234   \n",
       "\n",
       "           7         8         9    ...       490       491       492  \\\n",
       "0     1.000000  1.000000  1.000000  ...  1.000000  1.000000  1.000000   \n",
       "1     0.998851  0.997954  0.999344  ...  0.995584  0.997972  0.998681   \n",
       "2     0.997265  0.995995  1.000939  ...  0.996346  0.997712  0.996844   \n",
       "3     0.999269  0.993094  1.006844  ...  0.993075  1.000553  0.997590   \n",
       "4     0.998979  0.991976  1.009029  ...  0.993034  0.996063  0.995287   \n",
       "...        ...       ...       ...  ...       ...       ...       ...   \n",
       "2516  1.381592  1.145649  1.325212  ...  1.261423  1.177281  0.891332   \n",
       "2517  1.386648  1.136951  1.323758  ...  1.261179  1.177957  0.890358   \n",
       "2518  1.383330  1.133474  1.329164  ...  1.264298  1.180404  0.890927   \n",
       "2519  1.384941  1.135639  1.333143  ...  1.267447  1.178045  0.887903   \n",
       "2520  1.387109  1.136372  1.341214  ...  1.270674  1.177536  0.891234   \n",
       "\n",
       "           493       494       495       496       497       498       499  \n",
       "0     1.000000  1.000000  1.000000  1.000000  1.000000  1.000000  1.000000  \n",
       "1     0.996377  0.997007  0.998570  0.993945  1.001446  0.998418  1.003857  \n",
       "2     0.994468  0.994268  0.994746  0.996876  0.998065  0.995864  1.001743  \n",
       "3     0.994514  0.990760  0.992323  0.993952  0.996022  1.000590  1.000395  \n",
       "4     0.993441  0.990143  0.992726  0.993429  0.995128  0.998898  0.997046  \n",
       "...        ...       ...       ...       ...       ...       ...       ...  \n",
       "2516  1.524332  1.141815  1.126776  1.367601  1.217936  1.397370  1.082990  \n",
       "2517  1.519835  1.141846  1.128444  1.369137  1.214181  1.404019  1.082402  \n",
       "2518  1.519807  1.145029  1.124066  1.371630  1.217141  1.397711  1.077834  \n",
       "2519  1.518950  1.141614  1.119611  1.371997  1.218474  1.396066  1.076889  \n",
       "2520  1.521496  1.142631  1.126612  1.368531  1.218300  1.401112  1.078407  \n",
       "\n",
       "[2521 rows x 500 columns]"
      ]
     },
     "execution_count": 45,
     "metadata": {},
     "output_type": "execute_result"
    }
   ],
   "source": [
    "# Run the Monte Carlo simulation to forecast 10 years cumulative returns\n",
    "mc_2080_weight.calc_cumulative_return()\n"
   ]
  },
  {
   "cell_type": "code",
   "execution_count": 47,
   "metadata": {},
   "outputs": [
    {
     "data": {
      "image/png": "[encoded data removed]",
      "text/plain": [
       "<Figure size 432x288 with 1 Axes>"
      ]
     },
     "metadata": {
      "needs_background": "light"
     },
     "output_type": "display_data"
    }
   ],
   "source": [
    "# Visualize the 10-year Monte Carlo simulation by creating an\n",
    "# overlay line plot\n",
    "mc_2080_line_plot = mc_2080_weight.plot_simulation()\n"
   ]
  },
  {
   "cell_type": "code",
   "execution_count": 48,
   "metadata": {},
   "outputs": [
    {
     "data": {
      "image/png": "[encoded data removed]",
      "text/plain": [
       "<Figure size 432x288 with 1 Axes>"
      ]
     },
     "metadata": {
      "needs_background": "light"
     },
     "output_type": "display_data"
    }
   ],
   "source": [
    "# Visualize the probability distribution of the 10-year Monte Carlo simulation \n",
    "# by plotting a histogram\n",
    "\n",
    "mc_2080_distribution_plot = mc_2080_weight.plot_distribution()"
   ]
  },
  {
   "cell_type": "code",
   "execution_count": 49,
   "metadata": {},
   "outputs": [
    {
     "name": "stdout",
     "output_type": "stream",
     "text": [
      "count           500.000000\n",
      "mean              1.271901\n",
      "std               0.167495\n",
      "min               0.872319\n",
      "25%               1.161818\n",
      "50%               1.263280\n",
      "75%               1.376667\n",
      "max               1.903001\n",
      "95% CI Lower      0.962188\n",
      "95% CI Upper      1.636732\n",
      "Name: 2520, dtype: float64\n"
     ]
    }
   ],
   "source": [
    "# Generate summary statistics from the 10-year Monte Carlo simulation results\n",
    "# Save the results as a variable\n",
    "mc_2080_stats = mc_2080_weight.summarize_cumulative_return()\n",
    "\n",
    "\n",
    "# Review the 10-year Monte Carlo summary statistics\n",
    "print(mc_2080_stats)"
   ]
  },
  {
   "cell_type": "markdown",
   "metadata": {},
   "source": [
    "### Answer the following questions:"
   ]
  },
  {
   "cell_type": "markdown",
   "metadata": {},
   "source": [
    "#### Question: Using the current value of only the stock and bond portion of the member's portfolio and the summary statistics that you generated from the new Monte Carlo simulation, what are the lower and upper bounds for the expected value of the portfolio (with the new weights) with a 95% confidence interval?"
   ]
  },
  {
   "cell_type": "code",
   "execution_count": 50,
   "metadata": {},
   "outputs": [
    {
     "name": "stdout",
     "output_type": "stream",
     "text": [
      "The current balance of the stock and bond portion of the members portfolio is $57374.1\n"
     ]
    }
   ],
   "source": [
    "# Print the current balance of the stock and bond portion of the members portfolio\n",
    "print(f\"The current balance of the stock and bond portion of the members portfolio is ${total_stocks_bonds}\")\n"
   ]
  },
  {
   "cell_type": "code",
   "execution_count": 54,
   "metadata": {},
   "outputs": [
    {
     "name": "stdout",
     "output_type": "stream",
     "text": [
      " The lower `95%` confidence intervals to calculate the range of the possible outcomes for the current stock/bond portfolio is $55204.65\n",
      " The upper `95%` confidence intervals to calculate the range of the possible outcomes for the current stock/bond portfolio is $55204.65\n",
      "There is a 95% chance that investing the Stock/Bond portion of the portfolio (current value $57,374.10) in a more aggressive 80/20 weight distribution over the next 10 years will result within the range of $55,204.65 and $55,204.65 in value.\n"
     ]
    }
   ],
   "source": [
    "# Use the lower and upper `95%` confidence intervals to calculate the range of the possible outcomes for the current stock/bond portfolio\n",
    "ci_lower_ten_cumulative_return = mc_2080_stats[8] * total_stocks_bonds\n",
    "ci_upper_ten_cumulative_return = mc_2080_stats[8] * total_stocks_bonds\n",
    "\n",
    "# Print the result of your calculations\n",
    "print(f\" The lower `95%` confidence intervals to calculate the range of the possible outcomes for the current stock/bond portfolio is ${ci_lower_ten_cumulative_return :.2f}\")\n",
    "print(f\" The upper `95%` confidence intervals to calculate the range of the possible outcomes for the current stock/bond portfolio is ${ci_upper_ten_cumulative_return :.2f}\")\n",
    "\n",
    "print(f\"There is a 95% chance that investing the Stock/Bond portion of the portfolio (current value ${total_stocks_bonds:,.2f}) in a more aggressive 80/20 weight distribution over the next 10 years will result within the range of ${ci_lower_ten_cumulative_return:,.2f} and ${ci_upper_ten_cumulative_return:,.2f} in value.\")"
   ]
  },
  {
   "cell_type": "markdown",
   "metadata": {},
   "source": [
    "#### Question: Will weighting the portfolio more heavily to stocks allow the credit union members to retire after only 10 years?"
   ]
  },
  {
   "cell_type": "code",
   "execution_count": 57,
   "metadata": {},
   "outputs": [
    {
     "name": "stdout",
     "output_type": "stream",
     "text": [
      "**Answer** : It's very unlikely that weighting the portfolio more heavily towards stocks would allow the members to retire after only 10 years. With their current monthly expenses of $12,000.00, there is up to a 95% chance they would only have enough in stock/bond retirement accounts to survive for maximum of 4.60 months, or 0.38 years without accounting for inflation.\n"
     ]
    }
   ],
   "source": [
    "print(f\"**Answer** : It's very unlikely that weighting the portfolio more heavily towards stocks would allow the members to retire after only 10 years. With their current monthly expenses of ${monthly_income:,.2f}, there is up to a 95% chance they would only have enough in stock/bond retirement accounts to survive for maximum of {(ci_upper_ten_cumulative_return / monthly_income):,.2f} months, or {((ci_upper_ten_cumulative_return / monthly_income)/12):,.2f} years without accounting for inflation.\")"
   ]
  },
  {
   "cell_type": "code",
   "execution_count": null,
   "metadata": {},
   "outputs": [],
   "source": []
  }
 ],
 "metadata": {
  "kernelspec": {
   "display_name": "Python (dev)",
   "language": "python",
   "name": "dev"
  },
  "language_info": {
   "codemirror_mode": {
    "name": "ipython",
    "version": 3
   },
   "file_extension": ".py",
   "mimetype": "text/x-python",
   "name": "python",
   "nbconvert_exporter": "python",
   "pygments_lexer": "ipython3",
   "version": "3.8.8"
  }
 },
 "nbformat": 4,
 "nbformat_minor": 4
}
